{
  "nbformat": 4,
  "nbformat_minor": 0,
  "metadata": {
    "colab": {
      "provenance": []
    },
    "kernelspec": {
      "name": "python3",
      "display_name": "Python 3"
    },
    "language_info": {
      "name": "python"
    }
  },
  "cells": [
    {
      "cell_type": "markdown",
      "metadata": {
        "id": "5ip4vG_J7OKR"
      },
      "source": [
        "# **Q3**\n",
        "Repeat question no. Q2 using least angle regression models with BGD, SGD, and\n",
        "MBGD algorithms. Evaluate MSE, MAE, and CC values for the test data. You can use\n",
        "grid search to evaluate the optimal parameters of the models. You can divide the\n",
        "dataset into training, validation, and testing using hold-out cross-validation (70%\n",
        "(training), 10% (validation), and 20% (testing)). For Q3, the data_q2_q3.xlsx file\n",
        "must be used."
      ]
    },
    {
      "cell_type": "code",
      "metadata": {
        "id": "JuVaeG78CU1a",
        "colab": {
          "resources": {
            "http://localhost:8080/nbextensions/google.colab/files.js": {
              "data": "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",
              "ok": true,
              "headers": [
                [
                  "content-type",
                  "application/javascript"
                ]
              ],
              "status": 200,
              "status_text": ""
            }
          },
          "base_uri": "https://localhost:8080/",
          "height": 73
        },
        "outputId": "f9bd70e9-56aa-4713-ae83-6f41bcf87e4d"
      },
      "source": [
        "import numpy as np\n",
        "import pandas as pd\n",
        "import matplotlib.pyplot as plt\n",
        "import scipy as sp\n",
        "from google.colab import files\n",
        "uploaded=files.upload()"
      ],
      "execution_count": null,
      "outputs": [
        {
          "output_type": "display_data",
          "data": {
            "text/html": [
              "\n",
              "     <input type=\"file\" id=\"files-a4129b17-2398-448b-819b-881a6752fba0\" name=\"files[]\" multiple disabled\n",
              "        style=\"border:none\" />\n",
              "     <output id=\"result-a4129b17-2398-448b-819b-881a6752fba0\">\n",
              "      Upload widget is only available when the cell has been executed in the\n",
              "      current browser session. Please rerun this cell to enable.\n",
              "      </output>\n",
              "      <script src=\"/nbextensions/google.colab/files.js\"></script> "
            ],
            "text/plain": [
              "<IPython.core.display.HTML object>"
            ]
          },
          "metadata": {}
        },
        {
          "output_type": "stream",
          "name": "stdout",
          "text": [
            "Saving data_q2_q3.xlsx to data_q2_q3.xlsx\n"
          ]
        }
      ]
    },
    {
      "cell_type": "code",
      "metadata": {
        "id": "sYh4CytVqlth"
      },
      "source": [
        "def hyp(x,w):\n",
        "  return np.dot(x,w)\n",
        "def mse(y,pred,l):\n",
        "  return (1/l)*np.sum(np.square(y-pred))\n",
        "def mae(y,pred,l):\n",
        "  return (1/l)*np.sum(np.absolute(y-pred))\n",
        "def cc(y,pred):\n",
        "  return (np.sum(np.abs(np.multiply(y,pred))))/(np.sqrt(np.sum(np.square(y))*np.sum(np.square(pred))))"
      ],
      "execution_count": null,
      "outputs": []
    },
    {
      "cell_type": "code",
      "metadata": {
        "id": "xCmjUbvxCKNz"
      },
      "source": [
        "data=pd.read_excel(\"/content/data_q2_q3.xlsx\")\n",
        "data.insert(0,\"x0\",1)"
      ],
      "execution_count": null,
      "outputs": []
    },
    {
      "cell_type": "code",
      "metadata": {
        "id": "sXDBdPATrP5f"
      },
      "source": [
        "f,tr,va,te = 5,80,12,23\n",
        "data_tr=data.loc[:79,:].copy()\n",
        "data_tr=np.array(data_tr)\n",
        "norm = np.amax(np.abs(data_tr),axis=0)\n",
        "data_va=data.loc[80:91,:].copy()\n",
        "data_va=np.array(data_va)\n",
        "data_te=data.loc[92:,:].copy()\n",
        "data_te=np.array(data_te)\n",
        "data_tr,data_va,data_te = data_tr/norm,data_va/norm,data_te/norm #normalising data\n",
        "x_train,y_train,x_val,y_val,x_test,y_test=data_tr[:,:f],data_tr[:,f].reshape(tr,1),data_va[:,:f],data_va[:,f].reshape(va,1),data_te[:,:f],data_te[:,f].reshape(te,1)"
      ],
      "execution_count": null,
      "outputs": []
    },
    {
      "cell_type": "markdown",
      "metadata": {
        "id": "dCAQe9d9oech"
      },
      "source": [
        "## BGD"
      ]
    },
    {
      "cell_type": "code",
      "metadata": {
        "id": "4qclXCepohpu"
      },
      "source": [
        "# for grid search\n",
        "T_grid,A_grid,L_grid=np.linspace(300,950,10),np.linspace(0.1,1,10),np.linspace(0.01,0.1,10)\n",
        "params=[0,0,0] # T_ideal,Alpha,Lambda"
      ],
      "execution_count": null,
      "outputs": []
    },
    {
      "cell_type": "code",
      "metadata": {
        "id": "WAN_gCnroktS"
      },
      "source": [
        "curr_err=100 # current error\n",
        "\n",
        "for T in T_grid:\n",
        "  for alpha in A_grid:\n",
        "    for lamb in L_grid:\n",
        "      w=np.random.rand(f).reshape(f,1) # weight vector initialised\n",
        "      for t in range(int(T)):\n",
        "        j1 = hyp(x_train,w)-y_train # (hyp(xi)-yi)\n",
        "        for j in range(f):\n",
        "          jsum = np.sum(np.multiply(j1,x_train[:,j].reshape(tr,1)))\n",
        "          w[j] = w[j] - (1/tr)*alpha*jsum - ((alpha*lamb)/2)*np.sign(w[j])\n",
        "      mse_val = mse(hyp(x_val,w),y_val,va)\n",
        "      if mse_val < curr_err:\n",
        "        curr_err = mse_val\n",
        "        params = [int(T),alpha,lamb]"
      ],
      "execution_count": null,
      "outputs": []
    },
    {
      "cell_type": "code",
      "metadata": {
        "colab": {
          "base_uri": "https://localhost:8080/"
        },
        "id": "iP6POFuIt9b5",
        "outputId": "17e0121c-10ce-45b4-8836-b3cf3073a440"
      },
      "source": [
        "T_ideal,Alpha,Lambda=params[0],params[1],params[2]\n",
        "params"
      ],
      "execution_count": null,
      "outputs": [
        {
          "output_type": "execute_result",
          "data": {
            "text/plain": [
              "[661, 0.6, 0.04000000000000001]"
            ]
          },
          "metadata": {},
          "execution_count": 7
        }
      ]
    },
    {
      "cell_type": "code",
      "metadata": {
        "colab": {
          "base_uri": "https://localhost:8080/"
        },
        "id": "0OYDMww9tMiD",
        "outputId": "2dace3e0-39fd-4b46-ee72-57aa2687f701"
      },
      "source": [
        "w=np.random.rand(f).reshape(f,1) # weight vector initialised\n",
        "\n",
        "for t in range(T_ideal):\n",
        "    j1 = hyp(x_train,w)-y_train # (hyp(xi)-yi)\n",
        "    for j in range(f):\n",
        "      j2 = np.multiply(j1,x_train[:,j].reshape(tr,1))\n",
        "      jsum = np.sum(j2)\n",
        "      w[j] = w[j] - (1/tr)*Alpha*jsum - ((Alpha*Lambda)/2)*np.sign(w[j])\n",
        "\n",
        "print(\"yp = \"+str(w[0])+\" + \"+str(w[1])+\"(x1) + \"+str(w[2])+\"(x2) + \"+str(w[3])+\"(x3) + \"+str(w[4])+\"(x4)\")"
      ],
      "execution_count": null,
      "outputs": [
        {
          "output_type": "stream",
          "name": "stdout",
          "text": [
            "yp = [-0.00169874] + [0.53607736](x1) + [-0.00143494](x2) + [0.00697182](x3) + [0.48784138](x4)\n"
          ]
        }
      ]
    },
    {
      "cell_type": "code",
      "metadata": {
        "id": "UubGtJPqtYzl"
      },
      "source": [
        "# testing\n",
        "predicted_output = hyp(x_test,w)\n",
        "predicted_output"
      ],
      "execution_count": null,
      "outputs": []
    },
    {
      "cell_type": "code",
      "metadata": {
        "colab": {
          "base_uri": "https://localhost:8080/"
        },
        "id": "3ZIs0fO2tc60",
        "outputId": "1b4ef562-df41-4fc4-a7b7-c674cc3b7eb2"
      },
      "source": [
        "# Error calculation\n",
        "print(\"Mean Square Error = \"+str(mse(y_test,predicted_output,te)))\n",
        "print(\"Mean Absolute Error = \"+str(mae(y_test,predicted_output,te)))\n",
        "print(\"Correlation Coefficient = \"+str(cc(y_test,predicted_output)))"
      ],
      "execution_count": null,
      "outputs": [
        {
          "output_type": "stream",
          "name": "stdout",
          "text": [
            "Mean Square Error = 0.0617692527608974\n",
            "Mean Absolute Error = 0.21296310321121822\n",
            "Correlation Coefficient = 0.9868704949572067\n"
          ]
        }
      ]
    },
    {
      "cell_type": "markdown",
      "metadata": {
        "id": "6og5IL0bqHiS"
      },
      "source": [
        "## SGD"
      ]
    },
    {
      "cell_type": "code",
      "metadata": {
        "id": "tFY7pMlPqJoI"
      },
      "source": [
        "# for grid search\n",
        "T_grid,A_grid,L_grid=np.linspace(200,380,10),np.linspace(0.1,1,10),np.linspace(0.01,0.1,10)\n",
        "params=[0,0,0] # T_ideal,Alpha,Lambda"
      ],
      "execution_count": null,
      "outputs": []
    },
    {
      "cell_type": "code",
      "metadata": {
        "id": "lYzhYqHpqPd7"
      },
      "source": [
        "curr_err=100 # current error\n",
        "\n",
        "for T in T_grid:\n",
        "  for alpha in A_grid:\n",
        "    for lamb in L_grid:\n",
        "      w=np.random.rand(f).reshape(f,1) # weight vector initialised\n",
        "      for t in range(int(T)):\n",
        "        index=np.random.randint(tr)\n",
        "        j1 = (hyp(x_train,w)[index]-y_train[index]).reshape(1,1) # (hyp(xi)-yi)\n",
        "        for j in range(f):\n",
        "          j2 = np.multiply(j1.reshape(1,1),x_train[index,j])\n",
        "          w[j] = w[j] - (1/tr)*alpha*j2 - ((alpha*lamb)/2)*np.sign(w[j])\n",
        "      mse_val = mse(hyp(x_val,w),y_val,va)\n",
        "      if mse_val < curr_err:\n",
        "        curr_err = mse_val\n",
        "        params = [int(T),alpha,lamb]"
      ],
      "execution_count": null,
      "outputs": []
    },
    {
      "cell_type": "code",
      "metadata": {
        "colab": {
          "base_uri": "https://localhost:8080/"
        },
        "id": "n0vaTno4qSPc",
        "outputId": "67e56a0d-5068-4f81-8a63-34fc46d9e2c9"
      },
      "source": [
        "T_ideal,Alpha,Lambda=params[0],params[1],params[2]\n",
        "params"
      ],
      "execution_count": null,
      "outputs": [
        {
          "output_type": "execute_result",
          "data": {
            "text/plain": [
              "[320, 0.1, 0.01]"
            ]
          },
          "metadata": {},
          "execution_count": 19
        }
      ]
    },
    {
      "cell_type": "code",
      "metadata": {
        "colab": {
          "base_uri": "https://localhost:8080/"
        },
        "id": "AW3aT-guvACQ",
        "outputId": "5345bfe9-d8bb-41fe-f40d-dcc8ea0fb347"
      },
      "source": [
        "w=np.random.rand(f).reshape(f,1)\n",
        "\n",
        "for t in range(T_ideal):\n",
        "  index=np.random.randint(tr)\n",
        "  j1 = hyp(x_train,w)[index]-y_train[index] # (hyp(xi)-yi)\n",
        "  for j in range(f):\n",
        "    j2 = np.multiply(j1.reshape(1,1),x_train[index,j])\n",
        "    w[j] = w[j] - (1/tr)*Alpha*j2 - ((Alpha*Lambda)/2)*np.sign(w[j])\n",
        "\n",
        "print(\"yp = \"+str(w[0])+\" + \"+str(w[1])+\"(x1) + \"+str(w[2])+\"(x2) + \"+str(w[3])+\"(x3) + \"+str(w[4])+\"(x4)\")"
      ],
      "execution_count": null,
      "outputs": [
        {
          "output_type": "stream",
          "name": "stdout",
          "text": [
            "yp = [-0.05757316] + [0.17432966](x1) + [0.53810928](x2) + [0.38892594](x3) + [0.5487043](x4)\n"
          ]
        }
      ]
    },
    {
      "cell_type": "code",
      "metadata": {
        "id": "QZns2_i0vLli"
      },
      "source": [
        "# testing\n",
        "predicted_output = hyp(x_test,w)\n",
        "predicted_output"
      ],
      "execution_count": null,
      "outputs": []
    },
    {
      "cell_type": "code",
      "metadata": {
        "colab": {
          "base_uri": "https://localhost:8080/"
        },
        "id": "eElN8rjevQ5H",
        "outputId": "90451f8e-7b9f-4a37-d808-e8a7e7792389"
      },
      "source": [
        "# Error calculation\n",
        "print(\"Mean Square Error = \"+str(mse(y_test,predicted_output,te)))\n",
        "print(\"Mean Absolute Error = \"+str(mae(y_test,predicted_output,te)))\n",
        "print(\"Correlation Coefficient = \"+str(cc(y_test,predicted_output)))"
      ],
      "execution_count": null,
      "outputs": [
        {
          "output_type": "stream",
          "name": "stdout",
          "text": [
            "Mean Square Error = 0.08184339114303518\n",
            "Mean Absolute Error = 0.2536606591774682\n",
            "Correlation Coefficient = 0.9746846320102518\n"
          ]
        }
      ]
    },
    {
      "cell_type": "markdown",
      "metadata": {
        "id": "ZewtBxJ7qmwk"
      },
      "source": [
        "## MBGD"
      ]
    },
    {
      "cell_type": "code",
      "metadata": {
        "id": "uyWSz4auqoHh"
      },
      "source": [
        "# for grid search\n",
        "T_grid,A_grid,L_grid=np.linspace(300,560,10),np.linspace(0.1,1,10),np.linspace(0.01,0.1,10)\n",
        "params=[0,0,0] # T_ideal,Alpha,Lambda\n",
        "nb=20"
      ],
      "execution_count": null,
      "outputs": []
    },
    {
      "cell_type": "code",
      "metadata": {
        "id": "5H6vr6pKLHQJ"
      },
      "source": [
        "curr_err=100 # current error\n",
        "\n",
        "for T in T_grid:\n",
        "  for alpha in A_grid:\n",
        "    for lamb in L_grid:\n",
        "      w=np.random.rand(f).reshape(f,1) # weight vector initialised\n",
        "      for t in range(int(T)):\n",
        "        np.random.shuffle(data_tr)\n",
        "        hypo = np.dot(data_tr[:nb,:f].reshape(nb,f),w) # hypothesis array\n",
        "        j1 = np.subtract(hypo,data_tr[:nb,f].reshape(nb,1)) # (hyp(xi)-yi)\n",
        "        for j in range(f):\n",
        "          jsum = np.sum(np.multiply(j1,data_tr[:nb,j].reshape(nb,1)))\n",
        "          w[j] = w[j] - (1/tr)*alpha*jsum - ((alpha*lamb)/2)*np.sign(w[j])\n",
        "      mse_val = mse(hyp(x_val,w),y_val,va)\n",
        "      if mse_val < curr_err:\n",
        "        curr_err = mse_val\n",
        "        params = [int(T),alpha,lamb]"
      ],
      "execution_count": null,
      "outputs": []
    },
    {
      "cell_type": "code",
      "metadata": {
        "colab": {
          "base_uri": "https://localhost:8080/"
        },
        "id": "gDti9FoxLOk4",
        "outputId": "a3fd183a-46ca-46b4-92a9-e61f298e454a"
      },
      "source": [
        "T_ideal,Alpha,Lambda=params[0],params[1],params[2]\n",
        "params"
      ],
      "execution_count": null,
      "outputs": [
        {
          "output_type": "execute_result",
          "data": {
            "text/plain": [
              "[473, 0.1, 0.05000000000000001]"
            ]
          },
          "metadata": {},
          "execution_count": 7
        }
      ]
    },
    {
      "cell_type": "code",
      "metadata": {
        "colab": {
          "base_uri": "https://localhost:8080/"
        },
        "id": "iQvcu7WMLRzq",
        "outputId": "9d2c3a6b-5dd5-4939-b440-e27bc5708e08"
      },
      "source": [
        "w10=[]\n",
        "w30=[]\n",
        "w40=[]\n",
        "w50=[] # 10,30,40,50\n",
        "w=np.random.rand(f).reshape(f,1) # weight vector initialised\n",
        "\n",
        "for t in range(200):\n",
        "  np.random.shuffle(data_tr)\n",
        "  hypo = np.dot(data_tr[:nb,:f].reshape(nb,f),w) # hypothesis array\n",
        "  j1 = np.subtract(hypo,data_tr[:nb,f].reshape(nb,1)) # (hyp(xi)-yi)\n",
        "  for j in range(f):\n",
        "    jsum = np.sum(np.multiply(j1,data_tr[:nb,j].reshape(nb,1)))\n",
        "    w[j] = w[j] - (1/tr)*Alpha*jsum - ((Alpha*Lambda)/2)*np.sign(w[j])\n",
        "    if t == 9:\n",
        "      w10.append(w[j][0])\n",
        "    elif t == 29:\n",
        "      w30.append(w[j][0])\n",
        "    elif t == 39:\n",
        "      w40.append(w[j][0])\n",
        "    elif t == 49:\n",
        "      w50.append(w[j][0])\n",
        "\n",
        "print(\"yp = \"+str(w[0])+\" + \"+str(w[1])+\"(x1) + \"+str(w[2])+\"(x2) + \"+str(w[3])+\"(x3) + \"+str(w[4])+\"(x4)\")"
      ],
      "execution_count": null,
      "outputs": [
        {
          "output_type": "stream",
          "name": "stdout",
          "text": [
            "yp = [0.30511948] + [0.19145096](x1) + [0.15007749](x2) + [0.00357013](x3) + [0.22904553](x4)\n"
          ]
        }
      ]
    },
    {
      "cell_type": "code",
      "metadata": {
        "id": "-2PRapYdLua7"
      },
      "source": [
        "w10= np.array(w10).reshape(f,1) ; w30= np.array(w30).reshape(f,1) ; w40= np.array(w40).reshape(f,1) ; w50= np.array(w50).reshape(f,1)\n",
        "# testing\n",
        "predicted_output_10 = hyp(x_test,w10)\n",
        "print(predicted_output_10*norm[-1])\n",
        "predicted_output_30 = hyp(x_test,w30)\n",
        "print(predicted_output_30*norm[-1])\n",
        "predicted_output_40 = hyp(x_test,w40)\n",
        "print(predicted_output_40*norm[-1])\n",
        "predicted_output_50 = hyp(x_test,w50)\n",
        "print(predicted_output_50*norm[-1])"
      ],
      "execution_count": null,
      "outputs": []
    },
    {
      "cell_type": "code",
      "metadata": {
        "colab": {
          "base_uri": "https://localhost:8080/"
        },
        "id": "gB0xIjRLLxGb",
        "outputId": "585b8a65-f59d-4bf0-dce4-93019afe7b6e"
      },
      "source": [
        "# Error calculation\n",
        "print('t=10')\n",
        "print(\"Mean Square Error = \"+str(mse(y_test,predicted_output_10,te)))\n",
        "print(\"Mean Absolute Error = \"+str(mae(y_test,predicted_output_10,te)))\n",
        "print(\"Correlation Coefficient = \"+str(cc(y_test,predicted_output_10)))\n",
        "print('\\n')\n",
        "print('t=30')\n",
        "print(\"Mean Square Error = \"+str(mse(y_test,predicted_output_30,te)))\n",
        "print(\"Mean Absolute Error = \"+str(mae(y_test,predicted_output_30,te)))\n",
        "print(\"Correlation Coefficient = \"+str(cc(y_test,predicted_output_30)))\n",
        "print('\\n')\n",
        "print('t=40')\n",
        "print(\"Mean Square Error = \"+str(mse(y_test,predicted_output_40,te)))\n",
        "print(\"Mean Absolute Error = \"+str(mae(y_test,predicted_output_40,te)))\n",
        "print(\"Correlation Coefficient = \"+str(cc(y_test,predicted_output_40)))\n",
        "print('\\n')\n",
        "print('t=50')\n",
        "print(\"Mean Square Error = \"+str(mse(y_test,predicted_output_50,te)))\n",
        "print(\"Mean Absolute Error = \"+str(mae(y_test,predicted_output_50,te)))\n",
        "print(\"Correlation Coefficient = \"+str(cc(y_test,predicted_output_50)))"
      ],
      "execution_count": null,
      "outputs": [
        {
          "output_type": "stream",
          "name": "stdout",
          "text": [
            "t=10\n",
            "Mean Square Error = 0.5265209435823079\n",
            "Mean Absolute Error = 0.6511734928325772\n",
            "Correlation Coefficient = 0.9802363236118473\n",
            "\n",
            "\n",
            "t=30\n",
            "Mean Square Error = 0.05052370696277452\n",
            "Mean Absolute Error = 0.20389531192867477\n",
            "Correlation Coefficient = 0.9732156221170614\n",
            "\n",
            "\n",
            "t=40\n",
            "Mean Square Error = 0.05627542481980481\n",
            "Mean Absolute Error = 0.18006788284377012\n",
            "Correlation Coefficient = 0.9732503700736447\n",
            "\n",
            "\n",
            "t=50\n",
            "Mean Square Error = 0.06601262958927073\n",
            "Mean Absolute Error = 0.18801559889387814\n",
            "Correlation Coefficient = 0.974456604886885\n"
          ]
        }
      ]
    }
  ]
}