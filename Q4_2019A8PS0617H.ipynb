{
  "nbformat": 4,
  "nbformat_minor": 0,
  "metadata": {
    "colab": {
      "provenance": []
    },
    "kernelspec": {
      "display_name": "Python 3",
      "name": "python3"
    },
    "language_info": {
      "name": "python"
    }
  },
  "cells": [
    {
      "cell_type": "markdown",
      "metadata": {
        "id": "7Id0jOhz7aAN"
      },
      "source": [
        "# **Q4**\n",
        "Implement logistic regression (LOR), LOR with L2-norm regularization, and LOR\n",
        "with L1-norm regularization models using BGD, SGD, and MBGD algorithms. The\n",
        "dataset in data_q4_q5.xlsx contains 30 features and one output. The class label ‘M’\n",
        "stands for malignant, and ‘B’ is the Benign class. You must use hold-out\n",
        "cross-validation ((CV) with 70% as training, 10% as validation and 20% as testing) to\n",
        "evaluate training, validation, and testing instances for each model. Evaluate the\n",
        "performance of each model using accuracy, sensitivity, and specificity measures."
      ]
    },
    {
      "cell_type": "code",
      "metadata": {
        "colab": {
          "resources": {
            "http://localhost:8080/nbextensions/google.colab/files.js": {
              "data": "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",
              "ok": true,
              "headers": [
                [
                  "content-type",
                  "application/javascript"
                ]
              ],
              "status": 200,
              "status_text": ""
            }
          },
          "base_uri": "https://localhost:8080/",
          "height": 73
        },
        "id": "JuVaeG78CU1a",
        "outputId": "9e155ece-9709-4693-82b9-c4d82fee8ad1"
      },
      "source": [
        "import numpy as np\n",
        "import pandas as pd\n",
        "from google.colab import files\n",
        "uploaded=files.upload()"
      ],
      "execution_count": null,
      "outputs": [
        {
          "output_type": "display_data",
          "data": {
            "text/html": [
              "\n",
              "     <input type=\"file\" id=\"files-e580aeb2-485c-497b-b994-548105e8d47c\" name=\"files[]\" multiple disabled\n",
              "        style=\"border:none\" />\n",
              "     <output id=\"result-e580aeb2-485c-497b-b994-548105e8d47c\">\n",
              "      Upload widget is only available when the cell has been executed in the\n",
              "      current browser session. Please rerun this cell to enable.\n",
              "      </output>\n",
              "      <script src=\"/nbextensions/google.colab/files.js\"></script> "
            ],
            "text/plain": [
              "<IPython.core.display.HTML object>"
            ]
          },
          "metadata": {}
        },
        {
          "output_type": "stream",
          "name": "stdout",
          "text": [
            "Saving data_q4_q5.xlsx to data_q4_q5.xlsx\n"
          ]
        }
      ]
    },
    {
      "cell_type": "code",
      "metadata": {
        "id": "h56m8LUsxd9E"
      },
      "source": [
        "def hyp(x,w):\n",
        "  return np.dot(x,w)\n",
        "def hyp_lor(x,w):\n",
        "  return 1/(1+np.exp(-(hyp(x,w))))\n",
        "def mse(y,pred,l):\n",
        "  return (1/l)*np.sum(np.square(y-pred))\n",
        "def sensitivity(TN,FP,FN,TP):\n",
        "  return TP/(TP+FN)\n",
        "def specificity(TN,FP,FN,TP):\n",
        "  return TN/(TN+FP)\n",
        "def accuracy(TN,FP,FN,TP):\n",
        "  return (TP+TN)/(TP+TN+FP+FN)"
      ],
      "execution_count": null,
      "outputs": []
    },
    {
      "cell_type": "code",
      "metadata": {
        "id": "sZ09Ux2Qweez"
      },
      "source": [
        "data=pd.read_excel(\"/content/data_q4_q5.xlsx\")\n",
        "f,tr,va,te = 31,398,57,114\n",
        "data.insert(0,\"x0\",1)\n",
        "data.insert(f,\"diag_bool\",0)\n",
        "dbool = (data.diagnosis=='M')\n",
        "data.loc[dbool,'diag_bool']=1\n",
        "data=data.drop(['diagnosis'],axis=1)"
      ],
      "execution_count": null,
      "outputs": []
    },
    {
      "cell_type": "code",
      "metadata": {
        "id": "LO2PerIJNjwz"
      },
      "source": [
        "data_tr=data.loc[:397,:].copy()\n",
        "data_tr=np.array(data_tr)\n",
        "norm = np.amax(np.abs(data_tr),axis=0)\n",
        "data_va=data.loc[398:454,:].copy()\n",
        "data_va=np.array(data_va)\n",
        "data_te=data.loc[455:,:].copy()\n",
        "data_te=np.array(data_te)\n",
        "data_tr,data_va,data_te = data_tr/norm,data_va/norm,data_te/norm #normalising data\n",
        "x_train,y_train,x_val,y_val,x_test,y_test=data_tr[:,:f],data_tr[:,f].reshape(tr,1),data_va[:,:f],data_va[:,f].reshape(va,1),data_te[:,:f],data_te[:,f].reshape(te,1)"
      ],
      "execution_count": null,
      "outputs": []
    },
    {
      "cell_type": "markdown",
      "metadata": {
        "id": "QFJwBX3fNwP1"
      },
      "source": [
        "## BGD"
      ]
    },
    {
      "cell_type": "markdown",
      "metadata": {
        "id": "_TAFrQNcywr2"
      },
      "source": [
        "### LoR"
      ]
    },
    {
      "cell_type": "code",
      "metadata": {
        "id": "IBhluOXFpfL5"
      },
      "source": [
        "# for grid search\n",
        "T_grid=np.linspace(300,950,10)\n",
        "A_grid=np.linspace(0.1,1,10)\n",
        "params=[0,0] # T_ideal,Alpha,Lambda"
      ],
      "execution_count": null,
      "outputs": []
    },
    {
      "cell_type": "code",
      "metadata": {
        "id": "ThIR6GCzpwgq"
      },
      "source": [
        "curr_err=100 # current error\n",
        "\n",
        "for T in T_grid:\n",
        "  for alpha in A_grid:\n",
        "    w=np.random.rand(f).reshape(f,1) # weight vector initialised\n",
        "    for t in range(int(T)):\n",
        "      j1 = hyp_lor(x_train,w)-y_train # (hyp(xi)-yi)\n",
        "      for j in range(f):\n",
        "        jsum = np.sum(np.multiply(j1,x_train[:,j].reshape(tr,1)))\n",
        "        w[j] = w[j] - (1/tr)*alpha*jsum\n",
        "    mse_val = mse(hyp_lor(x_val,w),y_val,va)\n",
        "    if mse_val < curr_err:\n",
        "      curr_err = mse_val\n",
        "      params = [int(T),alpha]"
      ],
      "execution_count": null,
      "outputs": []
    },
    {
      "cell_type": "code",
      "metadata": {
        "colab": {
          "base_uri": "https://localhost:8080/"
        },
        "id": "7_FEPS0Jp9jG",
        "outputId": "5e1b6985-7829-4602-d764-10e237f6e8d7"
      },
      "source": [
        "T_ideal,Alpha=params[0],params[1]\n",
        "params"
      ],
      "execution_count": null,
      "outputs": [
        {
          "data": {
            "text/plain": [
              "[300, 1.0]"
            ]
          },
          "execution_count": 11,
          "metadata": {},
          "output_type": "execute_result"
        }
      ]
    },
    {
      "cell_type": "code",
      "metadata": {
        "id": "acoeLI_4qRZw"
      },
      "source": [
        "w=np.random.rand(f).reshape(f,1) # weight vector initialised\n",
        "\n",
        "for t in range(T_ideal):\n",
        "  j1 = hyp_lor(x_train,w)-y_train # (hyp(xi)-yi)\n",
        "  for j in range(f):\n",
        "    jsum = np.sum(np.multiply(j1,x_train[:,j].reshape(tr,1)))\n",
        "    w[j] = w[j] - (1/tr)*Alpha*jsum"
      ],
      "execution_count": null,
      "outputs": []
    },
    {
      "cell_type": "code",
      "metadata": {
        "colab": {
          "base_uri": "https://localhost:8080/"
        },
        "id": "hu0s8dt7qWoT",
        "outputId": "819e2bb4-89cf-4a6c-ae86-c9ac4401d7c1"
      },
      "source": [
        "# testing\n",
        "TN,FP,FN,TP=0,0,0,0\n",
        "predicted_output = hyp_lor(x_test,w)\n",
        "i=0\n",
        "for inst in predicted_output:\n",
        "  if inst>0.5:\n",
        "    print('M',y_test[i])\n",
        "    inst=1\n",
        "    if inst==y_test[i]:\n",
        "      TP+=1\n",
        "    else:\n",
        "      FP+=1\n",
        "  else:\n",
        "    print('B',y_test[i])\n",
        "    inst=0\n",
        "    if inst==y_test[i]:\n",
        "      TN+=1\n",
        "    else:\n",
        "      FN+=1\n",
        "  i+=1"
      ],
      "execution_count": null,
      "outputs": [
        {
          "name": "stdout",
          "output_type": "stream",
          "text": [
            "B [0.]\n",
            "B [0.]\n",
            "B [0.]\n",
            "B [0.]\n",
            "B [0.]\n",
            "M [1.]\n",
            "M [1.]\n",
            "B [0.]\n",
            "B [0.]\n",
            "B [0.]\n",
            "B [0.]\n",
            "B [0.]\n",
            "B [0.]\n",
            "M [1.]\n",
            "B [0.]\n",
            "B [0.]\n",
            "B [0.]\n",
            "B [0.]\n",
            "B [0.]\n",
            "B [0.]\n",
            "B [0.]\n",
            "B [0.]\n",
            "B [0.]\n",
            "B [0.]\n",
            "M [1.]\n",
            "B [0.]\n",
            "B [0.]\n",
            "B [0.]\n",
            "B [0.]\n",
            "M [0.]\n",
            "B [0.]\n",
            "B [0.]\n",
            "M [1.]\n",
            "B [0.]\n",
            "B [1.]\n",
            "B [0.]\n",
            "B [0.]\n",
            "M [1.]\n",
            "B [0.]\n",
            "B [0.]\n",
            "B [0.]\n",
            "B [0.]\n",
            "B [0.]\n",
            "M [1.]\n",
            "M [1.]\n",
            "B [0.]\n",
            "B [1.]\n",
            "B [0.]\n",
            "M [1.]\n",
            "B [0.]\n",
            "B [0.]\n",
            "B [0.]\n",
            "B [0.]\n",
            "B [0.]\n",
            "M [1.]\n",
            "B [0.]\n",
            "B [0.]\n",
            "M [1.]\n",
            "B [0.]\n",
            "M [1.]\n",
            "B [0.]\n",
            "M [1.]\n",
            "M [1.]\n",
            "B [0.]\n",
            "B [0.]\n",
            "B [0.]\n",
            "M [1.]\n",
            "B [0.]\n",
            "B [0.]\n",
            "B [0.]\n",
            "B [0.]\n",
            "B [0.]\n",
            "B [0.]\n",
            "B [0.]\n",
            "B [0.]\n",
            "B [0.]\n",
            "B [0.]\n",
            "B [0.]\n",
            "M [1.]\n",
            "B [0.]\n",
            "M [1.]\n",
            "M [1.]\n",
            "B [0.]\n",
            "B [0.]\n",
            "B [0.]\n",
            "B [0.]\n",
            "B [0.]\n",
            "B [0.]\n",
            "B [0.]\n",
            "B [0.]\n",
            "B [0.]\n",
            "B [0.]\n",
            "B [0.]\n",
            "B [0.]\n",
            "B [0.]\n",
            "B [0.]\n",
            "B [0.]\n",
            "B [0.]\n",
            "B [0.]\n",
            "B [0.]\n",
            "B [0.]\n",
            "B [0.]\n",
            "B [0.]\n",
            "B [0.]\n",
            "B [0.]\n",
            "B [0.]\n",
            "B [0.]\n",
            "M [1.]\n",
            "M [1.]\n",
            "M [1.]\n",
            "M [1.]\n",
            "M [1.]\n",
            "M [1.]\n",
            "B [0.]\n"
          ]
        }
      ]
    },
    {
      "cell_type": "code",
      "metadata": {
        "colab": {
          "base_uri": "https://localhost:8080/"
        },
        "id": "rtD8KxirqXlz",
        "outputId": "9a9e75b3-4407-475f-bf59-5e874fe7dd49"
      },
      "source": [
        "# Performance evaluation\n",
        "print(\"Sensitivity = \"+str(sensitivity(TN,FP,FN,TP)))\n",
        "print(\"Specificity = \"+str(specificity(TN,FP,FN,TP)))\n",
        "print(\"Accuracy = \"+str(accuracy(TN,FP,FN,TP)))"
      ],
      "execution_count": null,
      "outputs": [
        {
          "name": "stdout",
          "output_type": "stream",
          "text": [
            "Sensitivity = 0.9230769230769231\n",
            "Specificity = 0.9886363636363636\n",
            "Accuracy = 0.9736842105263158\n"
          ]
        }
      ]
    },
    {
      "cell_type": "markdown",
      "metadata": {
        "id": "8lVasC7epP02"
      },
      "source": [
        "### LoR with L2 NORM"
      ]
    },
    {
      "cell_type": "code",
      "metadata": {
        "id": "L8h70hkINyP-"
      },
      "source": [
        "# for grid search\n",
        "T_grid=np.linspace(300,950,10)\n",
        "A_grid=np.linspace(0.1,1,10)\n",
        "L_grid=np.linspace(0.01,0.1,10)\n",
        "params=[0,0,0] # T_ideal,Alpha,Lambda"
      ],
      "execution_count": null,
      "outputs": []
    },
    {
      "cell_type": "code",
      "metadata": {
        "id": "7E1iKdIiIHFP"
      },
      "source": [
        "curr_err=100 # current error\n",
        "\n",
        "for T in T_grid:\n",
        "  for alpha in A_grid:\n",
        "    for lamb in L_grid:\n",
        "      w=np.random.rand(f).reshape(f,1) # weight vector initialised\n",
        "      for t in range(int(T)):\n",
        "        j1 = hyp_lor(x_train,w)-y_train # (hyp(xi)-yi)\n",
        "        for j in range(f):\n",
        "          jsum = np.sum(np.multiply(j1,x_train[:,j].reshape(tr,1)))\n",
        "          w[j] = (1-(lamb*alpha))*w[j] - (1/tr)*alpha*jsum\n",
        "      mse_val = mse(hyp_lor(x_val,w),y_val,va)\n",
        "      if mse_val < curr_err:\n",
        "        curr_err = mse_val\n",
        "        params = [int(T),alpha,lamb]"
      ],
      "execution_count": null,
      "outputs": []
    },
    {
      "cell_type": "code",
      "metadata": {
        "colab": {
          "base_uri": "https://localhost:8080/"
        },
        "id": "L6jNQzxxYVtz",
        "outputId": "165c13f9-b8bd-47da-fcc9-9d481dd07c40"
      },
      "source": [
        "T_ideal=params[0]\n",
        "Alpha=params[1]\n",
        "Lambda=params[2]\n",
        "params"
      ],
      "execution_count": null,
      "outputs": [
        {
          "data": {
            "text/plain": [
              "[372, 0.9, 0.01]"
            ]
          },
          "execution_count": 17,
          "metadata": {},
          "output_type": "execute_result"
        }
      ]
    },
    {
      "cell_type": "code",
      "metadata": {
        "id": "xghNW03Kis9o"
      },
      "source": [
        "w=np.random.rand(f).reshape(f,1) # weight vector initialised\n",
        "\n",
        "for t in range(T_ideal):\n",
        "  j1 = hyp_lor(x_train,w)-y_train # (hyp(xi)-yi)\n",
        "  for j in range(f):\n",
        "    jsum = np.sum(np.multiply(j1,x_train[:,j].reshape(tr,1)))\n",
        "    w[j] = (1-(Lambda*Alpha))*w[j] - (1/tr)*Alpha*jsum"
      ],
      "execution_count": null,
      "outputs": []
    },
    {
      "cell_type": "code",
      "metadata": {
        "colab": {
          "base_uri": "https://localhost:8080/"
        },
        "id": "8hl_qywejHxW",
        "outputId": "867fd4d0-8e7c-40af-ab14-fffbbec3083b"
      },
      "source": [
        "# testing\n",
        "TN,FP,FN,TP=0,0,0,0\n",
        "predicted_output = hyp_lor(x_test,w)\n",
        "i=0\n",
        "for inst in predicted_output:\n",
        "  if inst>0.5:\n",
        "    print('M',y_test[i])\n",
        "    inst=1\n",
        "    if inst==y_test[i]:\n",
        "      TP+=1\n",
        "    else:\n",
        "      FP+=1\n",
        "  else:\n",
        "    print('B',y_test[i])\n",
        "    inst=0\n",
        "    if inst==y_test[i]:\n",
        "      TN+=1\n",
        "    else:\n",
        "      FN+=1\n",
        "  i+=1"
      ],
      "execution_count": null,
      "outputs": [
        {
          "name": "stdout",
          "output_type": "stream",
          "text": [
            "B [0.]\n",
            "B [0.]\n",
            "B [0.]\n",
            "B [0.]\n",
            "B [0.]\n",
            "M [1.]\n",
            "M [1.]\n",
            "B [0.]\n",
            "B [0.]\n",
            "B [0.]\n",
            "B [0.]\n",
            "B [0.]\n",
            "B [0.]\n",
            "M [1.]\n",
            "B [0.]\n",
            "B [0.]\n",
            "B [0.]\n",
            "B [0.]\n",
            "B [0.]\n",
            "B [0.]\n",
            "B [0.]\n",
            "B [0.]\n",
            "B [0.]\n",
            "B [0.]\n",
            "M [1.]\n",
            "B [0.]\n",
            "B [0.]\n",
            "B [0.]\n",
            "B [0.]\n",
            "M [0.]\n",
            "B [0.]\n",
            "B [0.]\n",
            "M [1.]\n",
            "B [0.]\n",
            "B [1.]\n",
            "B [0.]\n",
            "B [0.]\n",
            "M [1.]\n",
            "B [0.]\n",
            "B [0.]\n",
            "B [0.]\n",
            "B [0.]\n",
            "B [0.]\n",
            "M [1.]\n",
            "M [1.]\n",
            "B [0.]\n",
            "B [1.]\n",
            "B [0.]\n",
            "M [1.]\n",
            "B [0.]\n",
            "B [0.]\n",
            "B [0.]\n",
            "B [0.]\n",
            "B [0.]\n",
            "M [1.]\n",
            "B [0.]\n",
            "B [0.]\n",
            "M [1.]\n",
            "B [0.]\n",
            "B [1.]\n",
            "B [0.]\n",
            "M [1.]\n",
            "M [1.]\n",
            "B [0.]\n",
            "B [0.]\n",
            "B [0.]\n",
            "M [1.]\n",
            "B [0.]\n",
            "B [0.]\n",
            "B [0.]\n",
            "B [0.]\n",
            "B [0.]\n",
            "B [0.]\n",
            "B [0.]\n",
            "B [0.]\n",
            "B [0.]\n",
            "B [0.]\n",
            "B [0.]\n",
            "M [1.]\n",
            "B [0.]\n",
            "M [1.]\n",
            "M [1.]\n",
            "B [0.]\n",
            "B [0.]\n",
            "B [0.]\n",
            "B [0.]\n",
            "B [0.]\n",
            "B [0.]\n",
            "B [0.]\n",
            "B [0.]\n",
            "B [0.]\n",
            "B [0.]\n",
            "B [0.]\n",
            "B [0.]\n",
            "B [0.]\n",
            "B [0.]\n",
            "B [0.]\n",
            "B [0.]\n",
            "B [0.]\n",
            "B [0.]\n",
            "B [0.]\n",
            "B [0.]\n",
            "B [0.]\n",
            "B [0.]\n",
            "B [0.]\n",
            "B [0.]\n",
            "B [0.]\n",
            "M [1.]\n",
            "M [1.]\n",
            "M [1.]\n",
            "M [1.]\n",
            "M [1.]\n",
            "M [1.]\n",
            "B [0.]\n"
          ]
        }
      ]
    },
    {
      "cell_type": "code",
      "metadata": {
        "colab": {
          "base_uri": "https://localhost:8080/"
        },
        "id": "-f1nY5CZkVFD",
        "outputId": "f154d86c-7581-4b90-f778-b95914d082d9"
      },
      "source": [
        "# Performance evaluation\n",
        "print(\"Sensitivity = \"+str(sensitivity(TN,FP,FN,TP)))\n",
        "print(\"Specificity = \"+str(specificity(TN,FP,FN,TP)))\n",
        "print(\"Accuracy = \"+str(accuracy(TN,FP,FN,TP)))"
      ],
      "execution_count": null,
      "outputs": [
        {
          "name": "stdout",
          "output_type": "stream",
          "text": [
            "Sensitivity = 0.8846153846153846\n",
            "Specificity = 0.9886363636363636\n",
            "Accuracy = 0.9649122807017544\n"
          ]
        }
      ]
    },
    {
      "cell_type": "markdown",
      "metadata": {
        "id": "jOv4rjMRN8uY"
      },
      "source": [
        "### LoR with L1 NORM"
      ]
    },
    {
      "cell_type": "code",
      "metadata": {
        "id": "8GZZKlBmpuQ4"
      },
      "source": [
        "# for grid search\n",
        "T_grid=np.linspace(300,950,10)\n",
        "A_grid=np.linspace(0.1,1,10)\n",
        "L_grid=np.linspace(0.01,0.1,10)\n",
        "params=[0,0,0] # T_ideal,Alpha,Lambda"
      ],
      "execution_count": null,
      "outputs": []
    },
    {
      "cell_type": "code",
      "metadata": {
        "id": "kbD9NfsPpz78"
      },
      "source": [
        "curr_err=100 # current error\n",
        "\n",
        "for T in T_grid:\n",
        "  for alpha in A_grid:\n",
        "    for lamb in L_grid:\n",
        "      w=np.random.rand(f).reshape(f,1) # weight vector initialised\n",
        "      for t in range(int(T)):\n",
        "        j1 = hyp_lor(x_train,w)-y_train # (hyp(xi)-yi)\n",
        "        for j in range(f):\n",
        "          jsum = np.sum(np.multiply(j1,x_train[:,j].reshape(tr,1)))\n",
        "          w[j] = w[j] - (1/tr)*alpha*jsum - ((alpha*lamb)/2)*np.sign(w[j])\n",
        "      mse_val = mse(hyp_lor(x_val,w),y_val,va)\n",
        "      if mse_val < curr_err:\n",
        "        curr_err = mse_val\n",
        "        params = [int(T),alpha,lamb]"
      ],
      "execution_count": null,
      "outputs": []
    },
    {
      "cell_type": "code",
      "metadata": {
        "colab": {
          "base_uri": "https://localhost:8080/"
        },
        "id": "8MxTTRXYoz6M",
        "outputId": "b6287c7f-2e04-4e0d-ef96-c51eb5e7d216"
      },
      "source": [
        "T_ideal=params[0]\n",
        "Alpha=params[1]\n",
        "Lambda=params[2]\n",
        "params"
      ],
      "execution_count": null,
      "outputs": [
        {
          "data": {
            "text/plain": [
              "[877, 0.30000000000000004, 0.020000000000000004]"
            ]
          },
          "execution_count": 23,
          "metadata": {},
          "output_type": "execute_result"
        }
      ]
    },
    {
      "cell_type": "code",
      "metadata": {
        "id": "3hUyRLJ7p6Ff"
      },
      "source": [
        "w=np.random.rand(f).reshape(f,1) # weight vector initialised\n",
        "\n",
        "for t in range(T_ideal):\n",
        "    j1 = hyp_lor(x_train,w)-y_train # (hyp(xi)-yi)\n",
        "    for j in range(f):\n",
        "      j2 = np.multiply(j1,x_train[:,j].reshape(tr,1))\n",
        "      jsum = np.sum(j2)\n",
        "      w[j] = w[j] - (1/tr)*Alpha*jsum - ((Alpha*Lambda)/2)*np.sign(w[j])"
      ],
      "execution_count": null,
      "outputs": []
    },
    {
      "cell_type": "code",
      "metadata": {
        "colab": {
          "base_uri": "https://localhost:8080/"
        },
        "id": "9SMyEwcdo6QK",
        "outputId": "78876a0f-7152-4125-d90b-3f14f53116a7"
      },
      "source": [
        "# testing\n",
        "TN,FP,FN,TP=0,0,0,0\n",
        "predicted_output = hyp_lor(x_test,w)\n",
        "i=0\n",
        "for inst in predicted_output:\n",
        "  if inst>0.5:\n",
        "    print('M',y_test[i])\n",
        "    inst=1\n",
        "    if inst==y_test[i]:\n",
        "      TP+=1\n",
        "    else:\n",
        "      FP+=1\n",
        "  else:\n",
        "    print('B',y_test[i])\n",
        "    inst=0\n",
        "    if inst==y_test[i]:\n",
        "      TN+=1\n",
        "    else:\n",
        "      FN+=1\n",
        "  i+=1"
      ],
      "execution_count": null,
      "outputs": [
        {
          "name": "stdout",
          "output_type": "stream",
          "text": [
            "B [0.]\n",
            "B [0.]\n",
            "B [0.]\n",
            "B [0.]\n",
            "B [0.]\n",
            "M [1.]\n",
            "M [1.]\n",
            "B [0.]\n",
            "B [0.]\n",
            "B [0.]\n",
            "B [0.]\n",
            "B [0.]\n",
            "B [0.]\n",
            "M [1.]\n",
            "B [0.]\n",
            "B [0.]\n",
            "B [0.]\n",
            "B [0.]\n",
            "B [0.]\n",
            "B [0.]\n",
            "B [0.]\n",
            "B [0.]\n",
            "B [0.]\n",
            "B [0.]\n",
            "M [1.]\n",
            "B [0.]\n",
            "B [0.]\n",
            "B [0.]\n",
            "B [0.]\n",
            "M [0.]\n",
            "M [0.]\n",
            "B [0.]\n",
            "M [1.]\n",
            "B [0.]\n",
            "B [1.]\n",
            "B [0.]\n",
            "B [0.]\n",
            "M [1.]\n",
            "B [0.]\n",
            "B [0.]\n",
            "B [0.]\n",
            "B [0.]\n",
            "B [0.]\n",
            "M [1.]\n",
            "M [1.]\n",
            "B [0.]\n",
            "M [1.]\n",
            "B [0.]\n",
            "M [1.]\n",
            "B [0.]\n",
            "B [0.]\n",
            "B [0.]\n",
            "B [0.]\n",
            "M [0.]\n",
            "M [1.]\n",
            "B [0.]\n",
            "B [0.]\n",
            "M [1.]\n",
            "B [0.]\n",
            "B [1.]\n",
            "B [0.]\n",
            "M [1.]\n",
            "M [1.]\n",
            "B [0.]\n",
            "B [0.]\n",
            "B [0.]\n",
            "M [1.]\n",
            "B [0.]\n",
            "B [0.]\n",
            "B [0.]\n",
            "B [0.]\n",
            "B [0.]\n",
            "B [0.]\n",
            "B [0.]\n",
            "B [0.]\n",
            "B [0.]\n",
            "B [0.]\n",
            "B [0.]\n",
            "M [1.]\n",
            "B [0.]\n",
            "M [1.]\n",
            "M [1.]\n",
            "B [0.]\n",
            "B [0.]\n",
            "B [0.]\n",
            "B [0.]\n",
            "B [0.]\n",
            "B [0.]\n",
            "B [0.]\n",
            "B [0.]\n",
            "B [0.]\n",
            "B [0.]\n",
            "B [0.]\n",
            "B [0.]\n",
            "B [0.]\n",
            "B [0.]\n",
            "B [0.]\n",
            "B [0.]\n",
            "B [0.]\n",
            "B [0.]\n",
            "B [0.]\n",
            "B [0.]\n",
            "B [0.]\n",
            "B [0.]\n",
            "B [0.]\n",
            "B [0.]\n",
            "B [0.]\n",
            "M [1.]\n",
            "M [1.]\n",
            "M [1.]\n",
            "M [1.]\n",
            "M [1.]\n",
            "M [1.]\n",
            "B [0.]\n"
          ]
        }
      ]
    },
    {
      "cell_type": "code",
      "metadata": {
        "colab": {
          "base_uri": "https://localhost:8080/"
        },
        "id": "W8HYI444o4af",
        "outputId": "4104b56b-ad5c-4797-cff8-57d71a31d8fb"
      },
      "source": [
        "# Performance evaluation\n",
        "print(\"Sensitivity = \"+str(sensitivity(TN,FP,FN,TP)))\n",
        "print(\"Specificity = \"+str(specificity(TN,FP,FN,TP)))\n",
        "print(\"Accuracy = \"+str(accuracy(TN,FP,FN,TP)))"
      ],
      "execution_count": null,
      "outputs": [
        {
          "name": "stdout",
          "output_type": "stream",
          "text": [
            "Sensitivity = 0.9230769230769231\n",
            "Specificity = 0.9659090909090909\n",
            "Accuracy = 0.956140350877193\n"
          ]
        }
      ]
    },
    {
      "cell_type": "markdown",
      "metadata": {
        "id": "PKS3-hIiOb1G"
      },
      "source": [
        "## SGD"
      ]
    },
    {
      "cell_type": "markdown",
      "metadata": {
        "id": "eTQqDxuyzNoM"
      },
      "source": [
        "### LoR"
      ]
    },
    {
      "cell_type": "code",
      "metadata": {
        "id": "KhZCRBKlrnHM"
      },
      "source": [
        "# for grid search\n",
        "T_grid=np.linspace(200,380,10)\n",
        "A_grid=np.linspace(0.1,1,10)\n",
        "params=[0,0] # T_ideal,Alpha"
      ],
      "execution_count": null,
      "outputs": []
    },
    {
      "cell_type": "code",
      "metadata": {
        "id": "-5Sc5-wUrt6F"
      },
      "source": [
        "curr_err=100 # current error\n",
        "\n",
        "for T in T_grid:\n",
        "  for alpha in A_grid:\n",
        "    w=np.random.rand(f).reshape(f,1) # weight vector initialised\n",
        "    for t in range(int(T)):\n",
        "      index=np.random.randint(tr)\n",
        "      j1 = (hyp_lor(x_train,w)[index]-y_train[index]).reshape(1,1) # (hyp(xi)-yi)\n",
        "      for j in range(f):\n",
        "        j2 = np.multiply(j1.reshape(1,1),x_train[index,j])\n",
        "        w[j] = (1-(lamb*alpha))*w[j] - alpha*j2\n",
        "    mse_val = mse(hyp_lor(x_val,w),y_val,va)\n",
        "    if mse_val < curr_err:\n",
        "      curr_err = mse_val\n",
        "      params = [int(T),alpha]"
      ],
      "execution_count": null,
      "outputs": []
    },
    {
      "cell_type": "code",
      "metadata": {
        "colab": {
          "base_uri": "https://localhost:8080/"
        },
        "id": "hYc0lyX9rzNp",
        "outputId": "2bc54a1d-13d1-45bb-df78-1b16c1f75b82"
      },
      "source": [
        "T_ideal,Alpha=params[0],params[1]\n",
        "params"
      ],
      "execution_count": null,
      "outputs": [
        {
          "data": {
            "text/plain": [
              "[372, 0.6]"
            ]
          },
          "execution_count": 14,
          "metadata": {},
          "output_type": "execute_result"
        }
      ]
    },
    {
      "cell_type": "code",
      "metadata": {
        "id": "5AG6LE2sr7jt"
      },
      "source": [
        "w=np.random.rand(f).reshape(f,1)\n",
        "\n",
        "for t in range(T_ideal):\n",
        "  index=np.random.randint(tr)\n",
        "  j1 = hyp_lor(x_train,w)[index]-y_train[index] # (hyp(xi)-yi)\n",
        "  for j in range(f):\n",
        "    j2 = np.multiply(j1.reshape(1,1),x_train[index,j])\n",
        "    w[j] = w[j] - Alpha*j2"
      ],
      "execution_count": null,
      "outputs": []
    },
    {
      "cell_type": "code",
      "metadata": {
        "id": "65Dtv1gIsIo9"
      },
      "source": [
        "# testing\n",
        "TN,FP,FN,TP=0,0,0,0\n",
        "predicted_output = hyp_lor(x_test,w)\n",
        "i=0\n",
        "for inst in predicted_output:\n",
        "  if inst>0.5:\n",
        "    print('M',y_test[i])\n",
        "    inst=1\n",
        "    if inst==y_test[i]:\n",
        "      TP+=1\n",
        "    else:\n",
        "      FP+=1\n",
        "  else:\n",
        "    print('B',y_test[i])\n",
        "    inst=0\n",
        "    if inst==y_test[i]:\n",
        "      TN+=1\n",
        "    else:\n",
        "      FN+=1\n",
        "  i+=1"
      ],
      "execution_count": null,
      "outputs": []
    },
    {
      "cell_type": "code",
      "metadata": {
        "colab": {
          "base_uri": "https://localhost:8080/"
        },
        "id": "Jx1RwkuXsPMM",
        "outputId": "9da35aa5-0998-4c13-b282-c34107accbed"
      },
      "source": [
        "# Performance evaluation\n",
        "print(\"Sensitivity = \"+str(sensitivity(TN,FP,FN,TP)*100))\n",
        "print(\"Specificity = \"+str(specificity(TN,FP,FN,TP)*100))\n",
        "print(\"Accuracy = \"+str(accuracy(TN,FP,FN,TP)*100))"
      ],
      "execution_count": null,
      "outputs": [
        {
          "name": "stdout",
          "output_type": "stream",
          "text": [
            "Sensitivity = 84.61538461538461\n",
            "Specificity = 100.0\n",
            "Accuracy = 96.49122807017544\n"
          ]
        }
      ]
    },
    {
      "cell_type": "markdown",
      "metadata": {
        "id": "NdK3-TItOhIo"
      },
      "source": [
        "### LoR with L2 NORM"
      ]
    },
    {
      "cell_type": "code",
      "metadata": {
        "id": "dqSjZuNTq0Nc"
      },
      "source": [
        "# for grid search\n",
        "T_grid=np.linspace(200,400,10)\n",
        "A_grid=np.linspace(0.1,1,10)\n",
        "L_grid=np.linspace(0.01,0.1,10)\n",
        "params=[0,0,0] # T_ideal,Alpha,Lambda"
      ],
      "execution_count": null,
      "outputs": []
    },
    {
      "cell_type": "code",
      "metadata": {
        "id": "w91VdiKOq0dU"
      },
      "source": [
        "curr_err=100 # current error\n",
        "\n",
        "for T in T_grid:\n",
        "  for alpha in A_grid:\n",
        "    for lamb in L_grid:\n",
        "      w=np.random.rand(f).reshape(f,1) # weight vector initialised\n",
        "      for t in range(int(T)):\n",
        "        index=np.random.randint(tr)\n",
        "        j1 = (hyp_lor(x_train,w)[index]-y_train[index]).reshape(1,1) # (hyp(xi)-yi)\n",
        "        for j in range(f):\n",
        "          j2 = np.multiply(j1.reshape(1,1),x_train[index,j])\n",
        "          w[j] = (1-(lamb*alpha))*w[j] - alpha*j2\n",
        "      mse_val = mse(hyp_lor(x_val,w),y_val,va)\n",
        "      if mse_val < curr_err:\n",
        "        curr_err = mse_val\n",
        "        params = [int(T),alpha,lamb]"
      ],
      "execution_count": null,
      "outputs": []
    },
    {
      "cell_type": "code",
      "metadata": {
        "colab": {
          "base_uri": "https://localhost:8080/"
        },
        "id": "SF751HvZq01e",
        "outputId": "b8d0dd82-efda-41b1-d706-a48dc75b637b"
      },
      "source": [
        "T_ideal=params[0]\n",
        "Alpha=params[1]\n",
        "Lambda=params[2]\n",
        "params"
      ],
      "execution_count": null,
      "outputs": [
        {
          "data": {
            "text/plain": [
              "[340, 1.0, 0.01]"
            ]
          },
          "execution_count": 8,
          "metadata": {},
          "output_type": "execute_result"
        }
      ]
    },
    {
      "cell_type": "code",
      "metadata": {
        "id": "lYHkIgkZq1GB"
      },
      "source": [
        "w=np.random.rand(f).reshape(f,1)\n",
        "\n",
        "for t in range(T_ideal):\n",
        "  index=np.random.randint(tr)\n",
        "  j1 = hyp_lor(x_train,w)[index]-y_train[index] # (hyp(xi)-yi)\n",
        "  for j in range(f):\n",
        "    j2 = np.multiply(j1.reshape(1,1),x_train[index,j])\n",
        "    w[j] = (1-(Lambda*Alpha))*w[j] - Alpha*j2"
      ],
      "execution_count": null,
      "outputs": []
    },
    {
      "cell_type": "code",
      "metadata": {
        "colab": {
          "base_uri": "https://localhost:8080/"
        },
        "id": "NCKlzR_QrLkp",
        "outputId": "9e7229f4-e14c-4f84-ce60-6ceb51c31ff9"
      },
      "source": [
        "# testing\n",
        "TN,FP,FN,TP=0,0,0,0\n",
        "predicted_output = hyp_lor(x_test,w)\n",
        "i=0\n",
        "for inst in predicted_output:\n",
        "  if inst>0.5:\n",
        "    print('M',y_test[i])\n",
        "    inst=1\n",
        "    if inst==y_test[i]:\n",
        "      TP+=1\n",
        "    else:\n",
        "      FP+=1\n",
        "  else:\n",
        "    print('B',y_test[i])\n",
        "    inst=0\n",
        "    if inst==y_test[i]:\n",
        "      TN+=1\n",
        "    else:\n",
        "      FN+=1\n",
        "  i+=1"
      ],
      "execution_count": null,
      "outputs": [
        {
          "name": "stdout",
          "output_type": "stream",
          "text": [
            "B [0.]\n",
            "B [0.]\n",
            "B [0.]\n",
            "B [0.]\n",
            "B [0.]\n",
            "M [1.]\n",
            "M [1.]\n",
            "B [0.]\n",
            "B [0.]\n",
            "B [0.]\n",
            "B [0.]\n",
            "B [0.]\n",
            "B [0.]\n",
            "M [1.]\n",
            "B [0.]\n",
            "B [0.]\n",
            "B [0.]\n",
            "B [0.]\n",
            "B [0.]\n",
            "B [0.]\n",
            "B [0.]\n",
            "B [0.]\n",
            "B [0.]\n",
            "B [0.]\n",
            "M [1.]\n",
            "B [0.]\n",
            "B [0.]\n",
            "B [0.]\n",
            "B [0.]\n",
            "B [0.]\n",
            "B [0.]\n",
            "B [0.]\n",
            "M [1.]\n",
            "B [0.]\n",
            "B [1.]\n",
            "B [0.]\n",
            "B [0.]\n",
            "B [1.]\n",
            "B [0.]\n",
            "B [0.]\n",
            "B [0.]\n",
            "B [0.]\n",
            "B [0.]\n",
            "M [1.]\n",
            "M [1.]\n",
            "B [0.]\n",
            "B [1.]\n",
            "B [0.]\n",
            "M [1.]\n",
            "B [0.]\n",
            "B [0.]\n",
            "B [0.]\n",
            "B [0.]\n",
            "B [0.]\n",
            "M [1.]\n",
            "B [0.]\n",
            "B [0.]\n",
            "B [1.]\n",
            "B [0.]\n",
            "B [1.]\n",
            "B [0.]\n",
            "M [1.]\n",
            "M [1.]\n",
            "B [0.]\n",
            "B [0.]\n",
            "B [0.]\n",
            "M [1.]\n",
            "B [0.]\n",
            "B [0.]\n",
            "B [0.]\n",
            "B [0.]\n",
            "B [0.]\n",
            "B [0.]\n",
            "B [0.]\n",
            "B [0.]\n",
            "B [0.]\n",
            "B [0.]\n",
            "B [0.]\n",
            "M [1.]\n",
            "B [0.]\n",
            "M [1.]\n",
            "B [1.]\n",
            "B [0.]\n",
            "B [0.]\n",
            "B [0.]\n",
            "B [0.]\n",
            "B [0.]\n",
            "B [0.]\n",
            "B [0.]\n",
            "B [0.]\n",
            "B [0.]\n",
            "B [0.]\n",
            "B [0.]\n",
            "B [0.]\n",
            "B [0.]\n",
            "B [0.]\n",
            "B [0.]\n",
            "B [0.]\n",
            "B [0.]\n",
            "B [0.]\n",
            "B [0.]\n",
            "B [0.]\n",
            "B [0.]\n",
            "B [0.]\n",
            "B [0.]\n",
            "B [0.]\n",
            "B [0.]\n",
            "M [1.]\n",
            "M [1.]\n",
            "M [1.]\n",
            "M [1.]\n",
            "B [1.]\n",
            "M [1.]\n",
            "B [0.]\n"
          ]
        }
      ]
    },
    {
      "cell_type": "code",
      "metadata": {
        "colab": {
          "base_uri": "https://localhost:8080/"
        },
        "id": "DTI7TZ8PrRRZ",
        "outputId": "311ce453-f655-4463-e2e3-08d3ba763e56"
      },
      "source": [
        "# Performance evaluation\n",
        "print(\"Sensitivity = \"+str(sensitivity(TN,FP,FN,TP)))\n",
        "print(\"Specificity = \"+str(specificity(TN,FP,FN,TP)))\n",
        "print(\"Accuracy = \"+str(accuracy(TN,FP,FN,TP)))"
      ],
      "execution_count": null,
      "outputs": [
        {
          "name": "stdout",
          "output_type": "stream",
          "text": [
            "Sensitivity = 0.7307692307692307\n",
            "Specificity = 1.0\n",
            "Accuracy = 0.9385964912280702\n"
          ]
        }
      ]
    },
    {
      "cell_type": "markdown",
      "metadata": {
        "id": "QQjZ_VkUOjtm"
      },
      "source": [
        "### LoR with L1 NORM"
      ]
    },
    {
      "cell_type": "code",
      "metadata": {
        "id": "iU_aQLNxrVOT"
      },
      "source": [
        "# for grid search\n",
        "T_grid=np.linspace(50,750,15)\n",
        "A_grid=np.linspace(0.01,0.7,10)\n",
        "L_grid=np.linspace(0.001,0.01,10)\n",
        "params=[0,0,0] # T_ideal,Alpha,Lambda"
      ],
      "execution_count": null,
      "outputs": []
    },
    {
      "cell_type": "code",
      "metadata": {
        "id": "JWxcHJA8rYwc"
      },
      "source": [
        "curr_err=100 # current error\n",
        "\n",
        "for T in T_grid:\n",
        "  for alpha in A_grid:\n",
        "    for lamb in L_grid:\n",
        "      w=np.random.rand(f).reshape(f,1) # weight vector initialised\n",
        "      for t in range(int(T)):\n",
        "        index=np.random.randint(tr)\n",
        "        j1 = (hyp_lor(x_train,w)[index]-y_train[index]).reshape(1,1) # (hyp(xi)-yi)\n",
        "        for j in range(f):\n",
        "          j2 = np.multiply(j1.reshape(1,1),x_train[index,j])\n",
        "          w[j] = w[j] - (1/tr)*alpha*j2 - ((alpha*lamb)/2)*np.sign(w[j])\n",
        "      mse_val = mse(hyp_lor(x_val,w),y_val,va)\n",
        "      if mse_val < curr_err:\n",
        "        curr_err = mse_val\n",
        "        params = [int(T),alpha,lamb]"
      ],
      "execution_count": null,
      "outputs": []
    },
    {
      "cell_type": "code",
      "metadata": {
        "colab": {
          "base_uri": "https://localhost:8080/"
        },
        "id": "6YYa1Y2erdXK",
        "outputId": "d039763e-c9bc-4307-fbab-43e872f6e393"
      },
      "source": [
        "T_ideal=params[0]\n",
        "Alpha=params[1]\n",
        "Lambda=params[2]\n",
        "params"
      ],
      "execution_count": null,
      "outputs": [
        {
          "data": {
            "text/plain": [
              "[300, 0.16333333333333333, 0.006]"
            ]
          },
          "execution_count": 63,
          "metadata": {},
          "output_type": "execute_result"
        }
      ]
    },
    {
      "cell_type": "code",
      "metadata": {
        "id": "bXJwsy2Er0h0"
      },
      "source": [
        "w=np.random.rand(f).reshape(f,1)\n",
        "\n",
        "for t in range(T_ideal):\n",
        "  index=np.random.randint(tr)\n",
        "  j1 = hyp_lor(x_train,w)[index]-y_train[index] # (hyp(xi)-yi)\n",
        "  for j in range(f):\n",
        "    j2 = np.multiply(j1.reshape(1,1),x_train[index,j])\n",
        "    w[j] = w[j] - Alpha*j2 - ((Alpha*Lambda)/2)*np.sign(w[j])"
      ],
      "execution_count": null,
      "outputs": []
    },
    {
      "cell_type": "code",
      "metadata": {
        "colab": {
          "base_uri": "https://localhost:8080/"
        },
        "id": "b5N0MgDnr9vs",
        "outputId": "46033f1e-061e-4ec2-d749-94dd15c9d01c"
      },
      "source": [
        "# testing\n",
        "TN,FP,FN,TP=0,0,0,0\n",
        "predicted_output = hyp_lor(x_test,w)\n",
        "i=0\n",
        "for inst in predicted_output:\n",
        "  if inst>0.5:\n",
        "    print('M',y_test[i])\n",
        "    inst=1\n",
        "    if inst==y_test[i]:\n",
        "      TP+=1\n",
        "    else:\n",
        "      FP+=1\n",
        "  else:\n",
        "    print('B',y_test[i])\n",
        "    inst=0\n",
        "    if inst==y_test[i]:\n",
        "      TN+=1\n",
        "    else:\n",
        "      FN+=1\n",
        "  i+=1"
      ],
      "execution_count": null,
      "outputs": [
        {
          "name": "stdout",
          "output_type": "stream",
          "text": [
            "B [0.]\n",
            "B [0.]\n",
            "B [0.]\n",
            "B [0.]\n",
            "B [0.]\n",
            "M [1.]\n",
            "M [1.]\n",
            "B [0.]\n",
            "B [0.]\n",
            "B [0.]\n",
            "B [0.]\n",
            "B [0.]\n",
            "B [0.]\n",
            "M [1.]\n",
            "B [0.]\n",
            "B [0.]\n",
            "B [0.]\n",
            "B [0.]\n",
            "B [0.]\n",
            "B [0.]\n",
            "B [0.]\n",
            "B [0.]\n",
            "B [0.]\n",
            "B [0.]\n",
            "M [1.]\n",
            "B [0.]\n",
            "B [0.]\n",
            "B [0.]\n",
            "B [0.]\n",
            "B [0.]\n",
            "B [0.]\n",
            "B [0.]\n",
            "M [1.]\n",
            "B [0.]\n",
            "B [1.]\n",
            "B [0.]\n",
            "B [0.]\n",
            "M [1.]\n",
            "B [0.]\n",
            "B [0.]\n",
            "B [0.]\n",
            "B [0.]\n",
            "B [0.]\n",
            "M [1.]\n",
            "M [1.]\n",
            "B [0.]\n",
            "B [1.]\n",
            "B [0.]\n",
            "M [1.]\n",
            "B [0.]\n",
            "B [0.]\n",
            "B [0.]\n",
            "B [0.]\n",
            "B [0.]\n",
            "M [1.]\n",
            "B [0.]\n",
            "B [0.]\n",
            "B [1.]\n",
            "B [0.]\n",
            "B [1.]\n",
            "B [0.]\n",
            "M [1.]\n",
            "M [1.]\n",
            "B [0.]\n",
            "B [0.]\n",
            "B [0.]\n",
            "M [1.]\n",
            "B [0.]\n",
            "B [0.]\n",
            "B [0.]\n",
            "B [0.]\n",
            "B [0.]\n",
            "B [0.]\n",
            "B [0.]\n",
            "B [0.]\n",
            "B [0.]\n",
            "B [0.]\n",
            "B [0.]\n",
            "M [1.]\n",
            "B [0.]\n",
            "M [1.]\n",
            "B [1.]\n",
            "B [0.]\n",
            "B [0.]\n",
            "B [0.]\n",
            "B [0.]\n",
            "B [0.]\n",
            "B [0.]\n",
            "B [0.]\n",
            "B [0.]\n",
            "B [0.]\n",
            "B [0.]\n",
            "B [0.]\n",
            "B [0.]\n",
            "B [0.]\n",
            "B [0.]\n",
            "B [0.]\n",
            "B [0.]\n",
            "B [0.]\n",
            "B [0.]\n",
            "B [0.]\n",
            "B [0.]\n",
            "B [0.]\n",
            "B [0.]\n",
            "B [0.]\n",
            "B [0.]\n",
            "B [0.]\n",
            "M [1.]\n",
            "M [1.]\n",
            "M [1.]\n",
            "M [1.]\n",
            "B [1.]\n",
            "M [1.]\n",
            "B [0.]\n"
          ]
        }
      ]
    },
    {
      "cell_type": "code",
      "metadata": {
        "colab": {
          "base_uri": "https://localhost:8080/"
        },
        "id": "eglgezyCsA0C",
        "outputId": "498a9d8b-2a0b-4ca8-c125-7066c3c03cd0"
      },
      "source": [
        "# Performance evaluation\n",
        "print(\"Sensitivity = \"+str(sensitivity(TN,FP,FN,TP)))\n",
        "print(\"Specificity = \"+str(specificity(TN,FP,FN,TP)))\n",
        "print(\"Accuracy = \"+str(accuracy(TN,FP,FN,TP)))"
      ],
      "execution_count": null,
      "outputs": [
        {
          "name": "stdout",
          "output_type": "stream",
          "text": [
            "Sensitivity = 0.7692307692307693\n",
            "Specificity = 1.0\n",
            "Accuracy = 0.9473684210526315\n"
          ]
        }
      ]
    },
    {
      "cell_type": "markdown",
      "metadata": {
        "id": "JgGvHdcZOyGA"
      },
      "source": [
        "## MGBD"
      ]
    },
    {
      "cell_type": "markdown",
      "metadata": {
        "id": "p7-pnpw5zg9A"
      },
      "source": [
        "### LoR"
      ]
    },
    {
      "cell_type": "code",
      "metadata": {
        "id": "cI-Jr6pKske2"
      },
      "source": [
        "# for grid search\n",
        "T_grid=np.linspace(300,560,10)\n",
        "A_grid=np.linspace(0.1,1,10)\n",
        "params=[0,0] # T_ideal,Alpha\n",
        "nb=32"
      ],
      "execution_count": null,
      "outputs": []
    },
    {
      "cell_type": "code",
      "metadata": {
        "id": "5V0WlmEesp-X"
      },
      "source": [
        "curr_err=100 # current error\n",
        "\n",
        "for T in T_grid:\n",
        "  for alpha in A_grid:\n",
        "    w=np.random.rand(f).reshape(f,1) # weight vector initialised\n",
        "    for t in range(int(T)):\n",
        "      np.random.shuffle(data_tr)\n",
        "      hypo1 = np.dot(data_tr[:nb,:f].reshape(nb,f),w) # hypothesis array part1\n",
        "      hypo = 1/(1+np.exp(-hypo1))\n",
        "      j1 = np.subtract(hypo,data_tr[:nb,f].reshape(nb,1)) # (hyp(xi)-yi)\n",
        "      for j in range(f):\n",
        "        jsum = np.sum(np.multiply(j1,data_tr[:nb,j].reshape(nb,1)))\n",
        "        w[j] = w[j] - (1/tr)*alpha*jsum\n",
        "    mse_val = mse(hyp_lor(x_val,w),y_val,va)\n",
        "    if mse_val < curr_err:\n",
        "      curr_err = mse_val\n",
        "      params = [int(T),alpha]"
      ],
      "execution_count": null,
      "outputs": []
    },
    {
      "cell_type": "code",
      "metadata": {
        "colab": {
          "base_uri": "https://localhost:8080/"
        },
        "id": "xC5LAvLBsuwi",
        "outputId": "fc417ee6-4361-46ba-f9f4-a90dcd4d9e2a"
      },
      "source": [
        "T_ideal,Alpha=params[0],params[1]\n",
        "params"
      ],
      "execution_count": null,
      "outputs": [
        {
          "data": {
            "text/plain": [
              "[502, 1.0]"
            ]
          },
          "execution_count": 40,
          "metadata": {},
          "output_type": "execute_result"
        }
      ]
    },
    {
      "cell_type": "code",
      "metadata": {
        "id": "2cGCKMeVszKg"
      },
      "source": [
        "w=np.random.rand(f).reshape(f,1) # weight vector initialised\n",
        "\n",
        "for t in range(int(T_ideal)):\n",
        "  np.random.shuffle(data_tr)\n",
        "  hypo1 = np.dot(data_tr[:nb,:f].reshape(nb,f),w) # hypothesis array part1\n",
        "  hypo = 1/(1+np.exp(-hypo1))\n",
        "  j1 = np.subtract(hypo,data_tr[:nb,f].reshape(nb,1)) # (hyp(xi)-yi)\n",
        "  for j in range(f):\n",
        "    jsum = np.sum(np.multiply(j1,data_tr[:nb,j].reshape(nb,1)))\n",
        "    w[j] = w[j] - (1/tr)*Alpha*jsum"
      ],
      "execution_count": null,
      "outputs": []
    },
    {
      "cell_type": "code",
      "metadata": {
        "colab": {
          "base_uri": "https://localhost:8080/"
        },
        "id": "1cgWzoEBs4EG",
        "outputId": "a19ed33d-d63b-4bb5-e4b5-de0e93348b70"
      },
      "source": [
        "# testing\n",
        "TN,FP,FN,TP=0,0,0,0\n",
        "predicted_output = hyp_lor(x_test,w)\n",
        "i=0\n",
        "for inst in predicted_output:\n",
        "  if inst>0.5:\n",
        "    print('M',y_test[i])\n",
        "    inst=1\n",
        "    if inst==y_test[i]:\n",
        "      TP+=1\n",
        "    else:\n",
        "      FP+=1\n",
        "  else:\n",
        "    print('B',y_test[i])\n",
        "    inst=0\n",
        "    if inst==y_test[i]:\n",
        "      TN+=1\n",
        "    else:\n",
        "      FN+=1\n",
        "  i+=1"
      ],
      "execution_count": null,
      "outputs": [
        {
          "name": "stdout",
          "output_type": "stream",
          "text": [
            "B [0.]\n",
            "B [0.]\n",
            "B [0.]\n",
            "B [0.]\n",
            "B [0.]\n",
            "M [1.]\n",
            "M [1.]\n",
            "B [0.]\n",
            "B [0.]\n",
            "B [0.]\n",
            "M [0.]\n",
            "B [0.]\n",
            "B [0.]\n",
            "M [1.]\n",
            "B [0.]\n",
            "B [0.]\n",
            "B [0.]\n",
            "B [0.]\n",
            "B [0.]\n",
            "B [0.]\n",
            "B [0.]\n",
            "B [0.]\n",
            "B [0.]\n",
            "B [0.]\n",
            "M [1.]\n",
            "B [0.]\n",
            "B [0.]\n",
            "B [0.]\n",
            "B [0.]\n",
            "M [0.]\n",
            "M [0.]\n",
            "B [0.]\n",
            "M [1.]\n",
            "B [0.]\n",
            "B [1.]\n",
            "B [0.]\n",
            "B [0.]\n",
            "M [1.]\n",
            "B [0.]\n",
            "B [0.]\n",
            "B [0.]\n",
            "B [0.]\n",
            "B [0.]\n",
            "M [1.]\n",
            "M [1.]\n",
            "B [0.]\n",
            "B [1.]\n",
            "B [0.]\n",
            "M [1.]\n",
            "B [0.]\n",
            "B [0.]\n",
            "B [0.]\n",
            "B [0.]\n",
            "B [0.]\n",
            "M [1.]\n",
            "B [0.]\n",
            "B [0.]\n",
            "M [1.]\n",
            "B [0.]\n",
            "B [1.]\n",
            "B [0.]\n",
            "M [1.]\n",
            "M [1.]\n",
            "B [0.]\n",
            "B [0.]\n",
            "B [0.]\n",
            "M [1.]\n",
            "B [0.]\n",
            "B [0.]\n",
            "B [0.]\n",
            "B [0.]\n",
            "B [0.]\n",
            "B [0.]\n",
            "B [0.]\n",
            "B [0.]\n",
            "B [0.]\n",
            "B [0.]\n",
            "B [0.]\n",
            "M [1.]\n",
            "B [0.]\n",
            "M [1.]\n",
            "M [1.]\n",
            "B [0.]\n",
            "B [0.]\n",
            "B [0.]\n",
            "B [0.]\n",
            "B [0.]\n",
            "B [0.]\n",
            "B [0.]\n",
            "B [0.]\n",
            "B [0.]\n",
            "B [0.]\n",
            "B [0.]\n",
            "B [0.]\n",
            "B [0.]\n",
            "B [0.]\n",
            "B [0.]\n",
            "B [0.]\n",
            "B [0.]\n",
            "B [0.]\n",
            "B [0.]\n",
            "B [0.]\n",
            "B [0.]\n",
            "M [0.]\n",
            "B [0.]\n",
            "B [0.]\n",
            "B [0.]\n",
            "M [1.]\n",
            "M [1.]\n",
            "M [1.]\n",
            "M [1.]\n",
            "M [1.]\n",
            "M [1.]\n",
            "B [0.]\n"
          ]
        }
      ]
    },
    {
      "cell_type": "code",
      "metadata": {
        "colab": {
          "base_uri": "https://localhost:8080/"
        },
        "id": "8IyKW_wws7Vr",
        "outputId": "db0df8a6-859a-4d0c-c5e0-4b46654ecd20"
      },
      "source": [
        "# Performance evaluation\n",
        "print(\"Sensitivity = \"+str(sensitivity(TN,FP,FN,TP)))\n",
        "print(\"Specificity = \"+str(specificity(TN,FP,FN,TP)))\n",
        "print(\"Accuracy = \"+str(accuracy(TN,FP,FN,TP)))"
      ],
      "execution_count": null,
      "outputs": [
        {
          "name": "stdout",
          "output_type": "stream",
          "text": [
            "Sensitivity = 0.8846153846153846\n",
            "Specificity = 0.9545454545454546\n",
            "Accuracy = 0.9385964912280702\n"
          ]
        }
      ]
    },
    {
      "cell_type": "markdown",
      "metadata": {
        "id": "MZKDtWHHO2cB"
      },
      "source": [
        "### LoR with L2 NORM\n",
        "\n",
        "\n"
      ]
    },
    {
      "cell_type": "code",
      "metadata": {
        "id": "qjTTl9B6sFZr"
      },
      "source": [
        "# for grid search\n",
        "T_grid=np.linspace(300,560,10)\n",
        "A_grid=np.linspace(0.01,0.8,10)\n",
        "L_grid=np.linspace(0.001,0.01,10)\n",
        "params=[0,0,0] # T_ideal,Alpha,Lambda\n",
        "nb=32"
      ],
      "execution_count": null,
      "outputs": []
    },
    {
      "cell_type": "code",
      "metadata": {
        "id": "qCRDEcTIsNp1"
      },
      "source": [
        "curr_err=100 # current error\n",
        "\n",
        "for T in T_grid:\n",
        "  for alpha in A_grid:\n",
        "    for lamb in L_grid:\n",
        "      w=np.random.rand(f).reshape(f,1) # weight vector initialised\n",
        "      for t in range(int(T)):\n",
        "        np.random.shuffle(data_tr)\n",
        "        hypo1 = np.dot(data_tr[:nb,:f].reshape(nb,f),w) # hypothesis array part1\n",
        "        hypo = 1/(1+np.exp(-hypo1))\n",
        "        j1 = np.subtract(hypo,data_tr[:nb,f].reshape(nb,1)) # (hyp(xi)-yi)\n",
        "        for j in range(f):\n",
        "          jsum = np.sum(np.multiply(j1,data_tr[:nb,j].reshape(nb,1)))\n",
        "          w[j] = (1-(lamb*alpha))*w[j] - (1/tr)*alpha*jsum\n",
        "      mse_val = mse(hyp_lor(x_val,w),y_val,va)\n",
        "      if mse_val < curr_err:\n",
        "        curr_err = mse_val\n",
        "        params = [int(T),alpha,lamb]"
      ],
      "execution_count": null,
      "outputs": []
    },
    {
      "cell_type": "code",
      "metadata": {
        "colab": {
          "base_uri": "https://localhost:8080/"
        },
        "id": "_tvPuhNc3d8u",
        "outputId": "4b7f7877-cbb7-4552-9ff0-c074908c256a"
      },
      "source": [
        "T_ideal=params[0]\n",
        "Alpha=params[1]\n",
        "Lambda=params[2]\n",
        "params"
      ],
      "execution_count": null,
      "outputs": [
        {
          "data": {
            "text/plain": [
              "[560, 0.8, 0.001]"
            ]
          },
          "execution_count": 71,
          "metadata": {},
          "output_type": "execute_result"
        }
      ]
    },
    {
      "cell_type": "code",
      "metadata": {
        "id": "1xdwtrUE6_8s"
      },
      "source": [
        "w=np.random.rand(f).reshape(f,1) # weight vector initialised\n",
        "\n",
        "for t in range(int(T_ideal)):\n",
        "  np.random.shuffle(data_tr)\n",
        "  hypo1 = np.dot(data_tr[:nb,:f].reshape(nb,f),w) # hypothesis array part1\n",
        "  hypo = 1/(1+np.exp(-hypo1))\n",
        "  j1 = np.subtract(hypo,data_tr[:nb,f].reshape(nb,1)) # (hyp(xi)-yi)\n",
        "  for j in range(f):\n",
        "    jsum = np.sum(np.multiply(j1,data_tr[:nb,j].reshape(nb,1)))\n",
        "    w[j] = (1-(Lambda*Alpha))*w[j] - (1/tr)*Alpha*jsum"
      ],
      "execution_count": null,
      "outputs": []
    },
    {
      "cell_type": "code",
      "metadata": {
        "id": "Ifr1IeEt7Vh_"
      },
      "source": [
        "# testing\n",
        "TN,FP,FN,TP=0,0,0,0\n",
        "predicted_output = hyp_lor(x_test,w)\n",
        "i=0\n",
        "for inst in predicted_output:\n",
        "  if inst>0.5:\n",
        "    print('M',y_test[i])\n",
        "    inst=1\n",
        "    if inst==y_test[i]:\n",
        "      TP+=1\n",
        "    else:\n",
        "      FP+=1\n",
        "  else:\n",
        "    print('B',y_test[i])\n",
        "    inst=0\n",
        "    if inst==y_test[i]:\n",
        "      TN+=1\n",
        "    else:\n",
        "      FN+=1\n",
        "  i+=1"
      ],
      "execution_count": null,
      "outputs": []
    },
    {
      "cell_type": "code",
      "metadata": {
        "colab": {
          "base_uri": "https://localhost:8080/"
        },
        "id": "3Sb83sI17Zw1",
        "outputId": "674836b0-3f61-49d0-bdee-9158dc4c2685"
      },
      "source": [
        "# Performance evaluation\n",
        "print(\"Sensitivity = \"+str(sensitivity(TN,FP,FN,TP)))\n",
        "print(\"Specificity = \"+str(specificity(TN,FP,FN,TP)))\n",
        "print(\"Accuracy = \"+str(accuracy(TN,FP,FN,TP)))"
      ],
      "execution_count": null,
      "outputs": [
        {
          "name": "stdout",
          "output_type": "stream",
          "text": [
            "Sensitivity = 0.8846153846153846\n",
            "Specificity = 0.9772727272727273\n",
            "Accuracy = 0.956140350877193\n"
          ]
        }
      ]
    },
    {
      "cell_type": "markdown",
      "metadata": {
        "id": "6ajOWx4bO40F"
      },
      "source": [
        "### LoR with L1 NORM"
      ]
    },
    {
      "cell_type": "code",
      "metadata": {
        "id": "CfDpFiz57mID"
      },
      "source": [
        "# for grid search\n",
        "T_grid=np.linspace(10,500,10)\n",
        "A_grid=np.linspace(0.005,0.8,10)\n",
        "L_grid=np.linspace(0.001,0.02,10)\n",
        "params=[0,0,0] # T_ideal,Alpha,Lambda\n",
        "nb=20"
      ],
      "execution_count": null,
      "outputs": []
    },
    {
      "cell_type": "code",
      "metadata": {
        "id": "g2URZKDp71D-"
      },
      "source": [
        "curr_err=100 # current error\n",
        "\n",
        "for T in T_grid:\n",
        "  for alpha in A_grid:\n",
        "    for lamb in L_grid:\n",
        "      w=np.random.rand(f).reshape(f,1) # weight vector initialised\n",
        "      for t in range(int(T)):\n",
        "        np.random.shuffle(data_tr)\n",
        "        hypo1 = np.dot(data_tr[:nb,:f].reshape(nb,f),w) # hypothesis array\n",
        "        hypo = 1/(1+np.exp(-hypo1))\n",
        "        j1 = np.subtract(hypo,data_tr[:nb,f].reshape(nb,1)) # (hyp(xi)-yi)\n",
        "        for j in range(f):\n",
        "          jsum = np.sum(np.multiply(j1,data_tr[:nb,j].reshape(nb,1)))\n",
        "          w[j] = w[j] - (1/tr)*alpha*jsum - ((alpha*lamb)/2)*np.sign(w[j])\n",
        "      mse_val = mse(hyp(x_val,w),y_val,va)\n",
        "      if mse_val < curr_err:\n",
        "        curr_err = mse_val\n",
        "        params = [int(T),alpha,lamb]"
      ],
      "execution_count": null,
      "outputs": []
    },
    {
      "cell_type": "code",
      "metadata": {
        "colab": {
          "base_uri": "https://localhost:8080/"
        },
        "id": "hMuaxt4dO4Cw",
        "outputId": "3fcc00fe-851e-4ee2-865a-310c95f70adb"
      },
      "source": [
        "T_ideal=params[0]\n",
        "Alpha=params[1]\n",
        "Lambda=params[2]\n",
        "params"
      ],
      "execution_count": null,
      "outputs": [
        {
          "output_type": "execute_result",
          "data": {
            "text/plain": [
              "[173, 0.27, 0.013666666666666667]"
            ]
          },
          "metadata": {},
          "execution_count": 15
        }
      ]
    },
    {
      "cell_type": "code",
      "metadata": {
        "id": "E5fTC5Nr75Oj"
      },
      "source": [
        "w=np.random.rand(f).reshape(f,1) # weight vector initialised\n",
        "\n",
        "for t in range(60):\n",
        "  np.random.shuffle(data_tr)\n",
        "  hypo1 = np.dot(data_tr[:nb,:f].reshape(nb,f),w) # hypothesis array\n",
        "  hypo = 1/(1+np.exp(-hypo1))\n",
        "  j1 = np.subtract(hypo,data_tr[:nb,f].reshape(nb,1)) # (hyp(xi)-yi)\n",
        "  for j in range(f):\n",
        "    jsum = np.sum(np.multiply(j1,data_tr[:nb,j].reshape(nb,1)))\n",
        "    w[j] = w[j] - (1/nb)*Alpha*jsum - ((Alpha*Lambda)/2)*np.sign(w[j])"
      ],
      "execution_count": null,
      "outputs": []
    },
    {
      "cell_type": "code",
      "metadata": {
        "id": "0adA1TN97_mF",
        "colab": {
          "base_uri": "https://localhost:8080/"
        },
        "outputId": "0b9dd3d8-7792-422c-fcf4-ab76e76c2269"
      },
      "source": [
        "# testing\n",
        "TN,FP,FN,TP=0,0,0,0\n",
        "predicted_output = hyp_lor(x_test,w)\n",
        "i=0\n",
        "for inst in predicted_output:\n",
        "  if inst>0.5:\n",
        "    print('M',y_test[i])\n",
        "    inst=1\n",
        "    if inst==y_test[i]:\n",
        "      TP+=1\n",
        "    else:\n",
        "      FP+=1\n",
        "  else:\n",
        "    print('B',y_test[i])\n",
        "    inst=0\n",
        "    if inst==y_test[i]:\n",
        "      TN+=1\n",
        "    else:\n",
        "      FN+=1\n",
        "  i+=1"
      ],
      "execution_count": null,
      "outputs": [
        {
          "output_type": "stream",
          "name": "stdout",
          "text": [
            "B [0.]\n",
            "B [0.]\n",
            "B [0.]\n",
            "B [0.]\n",
            "B [0.]\n",
            "M [1.]\n",
            "M [1.]\n",
            "B [0.]\n",
            "B [0.]\n",
            "B [0.]\n",
            "M [0.]\n",
            "B [0.]\n",
            "B [0.]\n",
            "M [1.]\n",
            "B [0.]\n",
            "B [0.]\n",
            "B [0.]\n",
            "B [0.]\n",
            "B [0.]\n",
            "B [0.]\n",
            "B [0.]\n",
            "B [0.]\n",
            "B [0.]\n",
            "B [0.]\n",
            "M [1.]\n",
            "B [0.]\n",
            "B [0.]\n",
            "B [0.]\n",
            "B [0.]\n",
            "B [0.]\n",
            "M [0.]\n",
            "B [0.]\n",
            "M [1.]\n",
            "B [0.]\n",
            "B [1.]\n",
            "B [0.]\n",
            "B [0.]\n",
            "M [1.]\n",
            "B [0.]\n",
            "B [0.]\n",
            "B [0.]\n",
            "B [0.]\n",
            "B [0.]\n",
            "M [1.]\n",
            "M [1.]\n",
            "B [0.]\n",
            "B [1.]\n",
            "B [0.]\n",
            "M [1.]\n",
            "B [0.]\n",
            "B [0.]\n",
            "B [0.]\n",
            "B [0.]\n",
            "B [0.]\n",
            "M [1.]\n",
            "B [0.]\n",
            "B [0.]\n",
            "M [1.]\n",
            "B [0.]\n",
            "B [1.]\n",
            "B [0.]\n",
            "M [1.]\n",
            "M [1.]\n",
            "B [0.]\n",
            "B [0.]\n",
            "B [0.]\n",
            "M [1.]\n",
            "B [0.]\n",
            "B [0.]\n",
            "B [0.]\n",
            "B [0.]\n",
            "B [0.]\n",
            "B [0.]\n",
            "B [0.]\n",
            "B [0.]\n",
            "B [0.]\n",
            "B [0.]\n",
            "B [0.]\n",
            "M [1.]\n",
            "B [0.]\n",
            "M [1.]\n",
            "B [1.]\n",
            "B [0.]\n",
            "B [0.]\n",
            "B [0.]\n",
            "B [0.]\n",
            "B [0.]\n",
            "B [0.]\n",
            "B [0.]\n",
            "B [0.]\n",
            "B [0.]\n",
            "B [0.]\n",
            "B [0.]\n",
            "B [0.]\n",
            "B [0.]\n",
            "B [0.]\n",
            "B [0.]\n",
            "B [0.]\n",
            "B [0.]\n",
            "B [0.]\n",
            "B [0.]\n",
            "B [0.]\n",
            "B [0.]\n",
            "M [0.]\n",
            "B [0.]\n",
            "B [0.]\n",
            "B [0.]\n",
            "M [1.]\n",
            "M [1.]\n",
            "M [1.]\n",
            "M [1.]\n",
            "M [1.]\n",
            "M [1.]\n",
            "B [0.]\n"
          ]
        }
      ]
    },
    {
      "cell_type": "code",
      "metadata": {
        "colab": {
          "base_uri": "https://localhost:8080/"
        },
        "id": "7xxh29mt8AN-",
        "outputId": "f3b4bd84-305f-4094-e42a-aa5454b269c0"
      },
      "source": [
        "# Performance evaluation\n",
        "print(\"Sensitivity = \"+str(sensitivity(TN,FP,FN,TP)))\n",
        "print(\"Specificity = \"+str(specificity(TN,FP,FN,TP)))\n",
        "print(\"Accuracy = \"+str(accuracy(TN,FP,FN,TP)))"
      ],
      "execution_count": null,
      "outputs": [
        {
          "output_type": "stream",
          "name": "stdout",
          "text": [
            "Sensitivity = 0.8461538461538461\n",
            "Specificity = 0.9659090909090909\n",
            "Accuracy = 0.9385964912280702\n"
          ]
        }
      ]
    }
  ]
}