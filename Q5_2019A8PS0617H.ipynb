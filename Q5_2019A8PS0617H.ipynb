{
  "nbformat": 4,
  "nbformat_minor": 0,
  "metadata": {
    "colab": {
      "provenance": []
    },
    "kernelspec": {
      "name": "python3",
      "display_name": "Python 3"
    },
    "language_info": {
      "name": "python"
    }
  },
  "cells": [
    {
      "cell_type": "markdown",
      "metadata": {
        "id": "INkJ89PN8l7B"
      },
      "source": [
        "# **Q5**\n",
        "Repeat the Q4 using a 5-fold CV-based selection of training and test instances for each\n",
        "model. Evaluate the accuracy, sensitivity, and specificity values of LoR,\n",
        "LoR+L2-norm regularization, LoR+L1-norm regularization models using BGD, SGD,\n",
        "and MBGD algorithms. You must use the dataset data_q4_q5.xlsx for this question."
      ]
    },
    {
      "cell_type": "code",
      "metadata": {
        "id": "JuVaeG78CU1a",
        "colab": {
          "resources": {
            "http://localhost:8080/nbextensions/google.colab/files.js": {
              "data": "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",
              "ok": true,
              "headers": [
                [
                  "content-type",
                  "application/javascript"
                ]
              ],
              "status": 200,
              "status_text": ""
            }
          },
          "base_uri": "https://localhost:8080/",
          "height": 73
        },
        "outputId": "edf349d4-6be7-44fd-8b9f-967c525f0b5b"
      },
      "source": [
        "import numpy as np\n",
        "import pandas as pd\n",
        "import matplotlib.pyplot as plt\n",
        "import scipy as sp\n",
        "from google.colab import files\n",
        "uploaded=files.upload()"
      ],
      "execution_count": null,
      "outputs": [
        {
          "output_type": "display_data",
          "data": {
            "text/html": [
              "\n",
              "     <input type=\"file\" id=\"files-a78186a7-beed-452b-beda-12d4f7e37dc8\" name=\"files[]\" multiple disabled\n",
              "        style=\"border:none\" />\n",
              "     <output id=\"result-a78186a7-beed-452b-beda-12d4f7e37dc8\">\n",
              "      Upload widget is only available when the cell has been executed in the\n",
              "      current browser session. Please rerun this cell to enable.\n",
              "      </output>\n",
              "      <script src=\"/nbextensions/google.colab/files.js\"></script> "
            ],
            "text/plain": [
              "<IPython.core.display.HTML object>"
            ]
          },
          "metadata": {}
        },
        {
          "output_type": "stream",
          "name": "stdout",
          "text": [
            "Saving data_q4_q5.xlsx to data_q4_q5.xlsx\n"
          ]
        }
      ]
    },
    {
      "cell_type": "code",
      "metadata": {
        "id": "h56m8LUsxd9E"
      },
      "source": [
        "def hyp(x,w):\n",
        "  return np.dot(x,w)\n",
        "def hyp_lor(x,w):\n",
        "  return 1/(1+np.exp(-(hyp(x,w))))\n",
        "def mse(y,pred,l):\n",
        "  return (1/l)*np.sum(np.square(y-pred))\n",
        "def sensitivity(TN,FP,FN,TP):\n",
        "  return TP/(TP+FN)\n",
        "def specificity(TN,FP,FN,TP):\n",
        "  return TN/(TN+FP)\n",
        "def accuracy(TN,FP,FN,TP):\n",
        "  return (TP+TN)/(TP+TN+FP+FN)"
      ],
      "execution_count": null,
      "outputs": []
    },
    {
      "cell_type": "code",
      "metadata": {
        "id": "sZ09Ux2Qweez"
      },
      "source": [
        "data=pd.read_excel(\"/content/data_q4_q5.xlsx\")\n",
        "f,m = 31,569\n",
        "data.insert(0,\"x0\",1)\n",
        "data.insert(f,\"diag_bool\",0)\n",
        "dbool = (data.diagnosis=='M')\n",
        "data.loc[dbool,'diag_bool']=1\n",
        "data=data.drop(['diagnosis'],axis=1)\n",
        "data=np.array(data)\n",
        "np.random.shuffle(data)\n",
        "data=pd.DataFrame(data)"
      ],
      "execution_count": null,
      "outputs": []
    },
    {
      "cell_type": "markdown",
      "metadata": {
        "id": "PWOjwuVruTpS"
      },
      "source": [
        "## BGD"
      ]
    },
    {
      "cell_type": "markdown",
      "metadata": {
        "id": "adV9aK5p0fO2"
      },
      "source": [
        "### LoR"
      ]
    },
    {
      "cell_type": "code",
      "metadata": {
        "colab": {
          "base_uri": "https://localhost:8080/"
        },
        "id": "RbU1vbO1u1Z3",
        "outputId": "506ce5dd-64a5-4f20-a92a-447496b5f5c5"
      },
      "source": [
        "sens,spec,acc=0,0,0\n",
        "for i in range(5):\n",
        "\n",
        "  # data manipulation\n",
        "  run=i\n",
        "  start,end=i*114,(i+1)*114\n",
        "  data_te=data.loc[start:end,:].copy()\n",
        "  data_te=np.array(data_te)\n",
        "  data_tr=data.drop(data.index[start:end]).copy()\n",
        "  data_tr=np.array(data_tr)\n",
        "  norm  = np.amax(np.abs(data_tr),axis=0)\n",
        "  data_tr,data_te = data_tr/norm, data_te/norm #normalsing\n",
        "  x_train,y_train,x_test,y_test=data_tr[:,:f],data_tr[:,f].reshape(len(data_tr[:,f]),1),data_te[:,:f],data_te[:,f].reshape(len(data_te[:,f]),1)\n",
        "\n",
        "  # training\n",
        "  w=np.random.rand(f).reshape(f,1) # weight vector initialised\n",
        "  for t in range(300):\n",
        "    j1 = hyp_lor(x_train,w)-y_train # (hyp(xi)-yi)\n",
        "    for j in range(f):\n",
        "      jsum = np.sum(np.multiply(j1,x_train[:,j].reshape(len(j1),1)))\n",
        "      w[j] = w[j] - (1/len(y_train))*1*jsum\n",
        "\n",
        "  # testing\n",
        "  TN,FP,FN,TP=0,0,0,0\n",
        "  predicted_output = hyp_lor(x_test,w)\n",
        "  i=0\n",
        "  for inst in predicted_output:\n",
        "    if inst>0.5:\n",
        "      inst=1\n",
        "      if inst==y_test[i]:\n",
        "        TP+=1\n",
        "      else:\n",
        "        FP+=1\n",
        "    else:\n",
        "      inst=0\n",
        "      if inst==y_test[i]:\n",
        "        TN+=1\n",
        "      else:\n",
        "        FN+=1\n",
        "    i+=1\n",
        "\n",
        "  # performance evaluation\n",
        "  print(\"RUN\"+str(run+1))\n",
        "  print(\"Sensitivity = \"+str(sensitivity(TN,FP,FN,TP)))\n",
        "  print(\"Specificity = \"+str(specificity(TN,FP,FN,TP)))\n",
        "  print(\"Accuracy = \"+str(accuracy(TN,FP,FN,TP)))\n",
        "\n",
        "  sens,spec,acc=sens+sensitivity(TN,FP,FN,TP),spec+specificity(TN,FP,FN,TP),acc+accuracy(TN,FP,FN,TP)\n",
        "\n",
        "print(\"PERFORMANCE EVALUATION\")\n",
        "print(\"Sensitivity = \"+str(sens/5))\n",
        "print(\"Specificity = \"+str(spec/5))\n",
        "print(\"Accuracy = \"+str(acc/5))"
      ],
      "execution_count": null,
      "outputs": [
        {
          "output_type": "stream",
          "name": "stdout",
          "text": [
            "RUN1\n",
            "Sensitivity = 0.7941176470588235\n",
            "Specificity = 0.9574468085106383\n",
            "Accuracy = 0.8608695652173913\n",
            "RUN2\n",
            "Sensitivity = 0.8163265306122449\n",
            "Specificity = 1.0\n",
            "Accuracy = 0.9217391304347826\n",
            "RUN3\n",
            "Sensitivity = 0.9\n",
            "Specificity = 0.9866666666666667\n",
            "Accuracy = 0.9565217391304348\n",
            "RUN4\n",
            "Sensitivity = 0.9655172413793104\n",
            "Specificity = 0.9883720930232558\n",
            "Accuracy = 0.9826086956521739\n",
            "RUN5\n",
            "Sensitivity = 0.9615384615384616\n",
            "Specificity = 0.9655172413793104\n",
            "Accuracy = 0.9646017699115044\n",
            "PERFORMANCE EVALUATION\n",
            "Sensitivity = 0.887499976117768\n",
            "Specificity = 0.9796005619159743\n",
            "Accuracy = 0.9372681800692574\n"
          ]
        }
      ]
    },
    {
      "cell_type": "markdown",
      "metadata": {
        "id": "uRgxXBPYufUq"
      },
      "source": [
        "### LoR with L2 NORM"
      ]
    },
    {
      "cell_type": "code",
      "metadata": {
        "colab": {
          "base_uri": "https://localhost:8080/"
        },
        "id": "ZTu998HV38Lb",
        "outputId": "3b5982a4-d6d5-4807-d783-0e49ce88f193"
      },
      "source": [
        "sens,spec,acc=0,0,0\n",
        "for i in range(5):\n",
        "\n",
        "  # data manipulation\n",
        "  run=i\n",
        "  start,end=i*114,(i+1)*114\n",
        "  data_te=data.loc[start:end,:].copy()\n",
        "  data_te=np.array(data_te)\n",
        "  data_tr=data.drop(data.index[start:end]).copy()\n",
        "  data_tr=np.array(data_tr)\n",
        "  norm  = np.amax(np.abs(data_tr),axis=0)\n",
        "  data_tr,data_te = data_tr/norm, data_te/norm #normalsing\n",
        "  x_train,y_train,x_test,y_test=data_tr[:,:f],data_tr[:,f].reshape(len(data_tr[:,f]),1),data_te[:,:f],data_te[:,f].reshape(len(data_te[:,f]),1)\n",
        "\n",
        "  # training\n",
        "  w=np.random.rand(f).reshape(f,1) # weight vector initialised\n",
        "  for t in range(372):\n",
        "    j1 = hyp_lor(x_train,w)-y_train # (hyp(xi)-yi)\n",
        "    for j in range(f):\n",
        "      jsum = np.sum(np.multiply(j1,x_train[:,j].reshape(len(j1),1)))\n",
        "      w[j] = (1-(0.01*0.9))*w[j] - (1/len(y_train))*0.9*jsum\n",
        "\n",
        "  # testing\n",
        "  TN,FP,FN,TP=0,0,0,0\n",
        "  predicted_output = hyp_lor(x_test,w)\n",
        "  i=0\n",
        "  for inst in predicted_output:\n",
        "    if inst>0.5:\n",
        "      inst=1\n",
        "      if inst==y_test[i]:\n",
        "        TP+=1\n",
        "      else:\n",
        "        FP+=1\n",
        "    else:\n",
        "      inst=0\n",
        "      if inst==y_test[i]:\n",
        "        TN+=1\n",
        "      else:\n",
        "        FN+=1\n",
        "    i+=1\n",
        "\n",
        "  # performance evaluation\n",
        "  print(\"RUN\"+str(run+1))\n",
        "  print(\"Sensitivity = \"+str(sensitivity(TN,FP,FN,TP)))\n",
        "  print(\"Specificity = \"+str(specificity(TN,FP,FN,TP)))\n",
        "  print(\"Accuracy = \"+str(accuracy(TN,FP,FN,TP)))\n",
        "\n",
        "  sens,spec,acc=sens+sensitivity(TN,FP,FN,TP),spec+specificity(TN,FP,FN,TP),acc+accuracy(TN,FP,FN,TP)\n",
        "\n",
        "print(\"PERFORMANCE EVALUATION\")\n",
        "print(\"Sensitivity = \"+str(sens/5))\n",
        "print(\"Specificity = \"+str(spec/5))\n",
        "print(\"Accuracy = \"+str(acc/5))"
      ],
      "execution_count": null,
      "outputs": [
        {
          "output_type": "stream",
          "name": "stdout",
          "text": [
            "RUN1\n",
            "Sensitivity = 0.7058823529411765\n",
            "Specificity = 0.9787234042553191\n",
            "Accuracy = 0.8173913043478261\n",
            "RUN2\n",
            "Sensitivity = 0.7346938775510204\n",
            "Specificity = 1.0\n",
            "Accuracy = 0.8869565217391304\n",
            "RUN3\n",
            "Sensitivity = 0.85\n",
            "Specificity = 0.9866666666666667\n",
            "Accuracy = 0.9391304347826087\n",
            "RUN4\n",
            "Sensitivity = 0.9310344827586207\n",
            "Specificity = 1.0\n",
            "Accuracy = 0.9826086956521739\n",
            "RUN5\n",
            "Sensitivity = 0.8846153846153846\n",
            "Specificity = 0.9770114942528736\n",
            "Accuracy = 0.9557522123893806\n",
            "PERFORMANCE EVALUATION\n",
            "Sensitivity = 0.8212452195732404\n",
            "Specificity = 0.9884803130349719\n",
            "Accuracy = 0.9163678337822239\n"
          ]
        }
      ]
    },
    {
      "cell_type": "markdown",
      "metadata": {
        "id": "Zk_iP5WYuhxU"
      },
      "source": [
        "### LoR with L1 NORM"
      ]
    },
    {
      "cell_type": "code",
      "metadata": {
        "colab": {
          "base_uri": "https://localhost:8080/"
        },
        "id": "6HoVzlpz8Ob_",
        "outputId": "b65820d6-9b09-40e0-a46d-1853b06b0d36"
      },
      "source": [
        "sens,spec,acc=0,0,0\n",
        "for i in range(5):\n",
        "\n",
        "  # data manipulation\n",
        "  run=i\n",
        "  start,end=i*114,(i+1)*114\n",
        "  data_te=data.loc[start:end,:].copy()\n",
        "  data_te=np.array(data_te)\n",
        "  data_tr=data.drop(data.index[start:end]).copy()\n",
        "  data_tr=np.array(data_tr)\n",
        "  norm  = np.amax(np.abs(data_tr),axis=0)\n",
        "  data_tr,data_te = data_tr/norm, data_te/norm #normalsing\n",
        "  x_train,y_train,x_test,y_test=data_tr[:,:f],data_tr[:,f].reshape(len(data_tr[:,f]),1),data_te[:,:f],data_te[:,f].reshape(len(data_te[:,f]),1)\n",
        "\n",
        "  # training\n",
        "  w=np.random.rand(f).reshape(f,1) # weight vector initialised\n",
        "  for t in range(877):\n",
        "    j1 = hyp_lor(x_train,w)-y_train # (hyp(xi)-yi)\n",
        "    for j in range(f):\n",
        "      jsum = np.sum(np.multiply(j1,x_train[:,j].reshape(len(j1),1)))\n",
        "      w[j] = (1-(0.022*0.33))*w[j] - (1/len(y_train))*0.33*jsum\n",
        "\n",
        "  # testing\n",
        "  TN,FP,FN,TP=0,0,0,0\n",
        "  predicted_output = hyp_lor(x_test,w)\n",
        "  i=0\n",
        "  for inst in predicted_output:\n",
        "    if inst>0.5:\n",
        "      inst=1\n",
        "      if inst==y_test[i]:\n",
        "        TP+=1\n",
        "      else:\n",
        "        FP+=1\n",
        "    else:\n",
        "      inst=0\n",
        "      if inst==y_test[i]:\n",
        "        TN+=1\n",
        "      else:\n",
        "        FN+=1\n",
        "    i+=1\n",
        "\n",
        "  # performance evaluation\n",
        "  print(\"RUN\"+str(run+1))\n",
        "  print(\"Sensitivity = \"+str(sensitivity(TN,FP,FN,TP)))\n",
        "  print(\"Specificity = \"+str(specificity(TN,FP,FN,TP)))\n",
        "  print(\"Accuracy = \"+str(accuracy(TN,FP,FN,TP)))\n",
        "\n",
        "  sens,spec,acc=sens+sensitivity(TN,FP,FN,TP),spec+specificity(TN,FP,FN,TP),acc+accuracy(TN,FP,FN,TP)\n",
        "\n",
        "print(\"PERFORMANCE EVALUATION\")\n",
        "print(\"Sensitivity = \"+str(sens/5))\n",
        "print(\"Specificity = \"+str(spec/5))\n",
        "print(\"Accuracy = \"+str(acc/5))"
      ],
      "execution_count": null,
      "outputs": [
        {
          "output_type": "stream",
          "name": "stdout",
          "text": [
            "RUN1\n",
            "Sensitivity = 0.7021276595744681\n",
            "Specificity = 1.0\n",
            "Accuracy = 0.8782608695652174\n",
            "RUN2\n",
            "Sensitivity = 0.8478260869565217\n",
            "Specificity = 0.9710144927536232\n",
            "Accuracy = 0.9217391304347826\n",
            "RUN3\n",
            "Sensitivity = 0.868421052631579\n",
            "Specificity = 0.974025974025974\n",
            "Accuracy = 0.9391304347826087\n",
            "RUN4\n",
            "Sensitivity = 0.6086956521739131\n",
            "Specificity = 0.9855072463768116\n",
            "Accuracy = 0.8347826086956521\n",
            "RUN5\n",
            "Sensitivity = 0.8947368421052632\n",
            "Specificity = 1.0\n",
            "Accuracy = 0.9646017699115044\n",
            "PERFORMANCE EVALUATION\n",
            "Sensitivity = 0.7843614586883491\n",
            "Specificity = 0.9861095426312817\n",
            "Accuracy = 0.9077029626779531\n"
          ]
        }
      ]
    },
    {
      "cell_type": "markdown",
      "metadata": {
        "id": "9AkN3zf-8cJG"
      },
      "source": [
        "## SGD"
      ]
    },
    {
      "cell_type": "markdown",
      "metadata": {
        "id": "YDGj6Ao98e9Z"
      },
      "source": [
        "### LoR"
      ]
    },
    {
      "cell_type": "code",
      "metadata": {
        "colab": {
          "base_uri": "https://localhost:8080/"
        },
        "id": "Jpu1Ed8P84CQ",
        "outputId": "e776b161-f425-4d97-cf56-6d78909677dd"
      },
      "source": [
        "sens,spec,acc=0,0,0\n",
        "for i in range(5):\n",
        "\n",
        "  # data manipulation\n",
        "  run=i\n",
        "  start,end=i*114,(i+1)*114\n",
        "  data_te=data.loc[start:end,:].copy()\n",
        "  data_te=np.array(data_te)\n",
        "  data_tr=data.drop(data.index[start:end]).copy()\n",
        "  data_tr=np.array(data_tr)\n",
        "  norm  = np.amax(np.abs(data_tr),axis=0)\n",
        "  data_tr,data_te = data_tr/norm, data_te/norm #normalsing\n",
        "  x_train,y_train,x_test,y_test=data_tr[:,:f],data_tr[:,f].reshape(len(data_tr[:,f]),1),data_te[:,:f],data_te[:,f].reshape(len(data_te[:,f]),1)\n",
        "\n",
        "  #training\n",
        "  w=np.random.rand(f).reshape(f,1)\n",
        "  for t in range(372):\n",
        "    index=np.random.randint(len(y_train))\n",
        "    j1 = hyp_lor(x_train,w)[index]-y_train[index] # (hyp(xi)-yi)\n",
        "    for j in range(f):\n",
        "      j2 = np.multiply(j1.reshape(1,1),x_train[index,j])\n",
        "      w[j] = w[j] - 0.6*j2\n",
        "\n",
        "  # testing\n",
        "  TN,FP,FN,TP=0,0,0,0\n",
        "  predicted_output = hyp_lor(x_test,w)\n",
        "  i=0\n",
        "  for inst in predicted_output:\n",
        "    if inst>0.5:\n",
        "      inst=1\n",
        "      if inst==y_test[i]:\n",
        "        TP+=1\n",
        "      else:\n",
        "        FP+=1\n",
        "    else:\n",
        "      inst=0\n",
        "      if inst==y_test[i]:\n",
        "        TN+=1\n",
        "      else:\n",
        "        FN+=1\n",
        "    i+=1\n",
        "\n",
        "  # performance evaluation\n",
        "  print(\"RUN\"+str(run+1))\n",
        "  print(\"Sensitivity = \"+str(sensitivity(TN,FP,FN,TP)))\n",
        "  print(\"Specificity = \"+str(specificity(TN,FP,FN,TP)))\n",
        "  print(\"Accuracy = \"+str(accuracy(TN,FP,FN,TP)))\n",
        "\n",
        "  sens,spec,acc=sens+sensitivity(TN,FP,FN,TP),spec+specificity(TN,FP,FN,TP),acc+accuracy(TN,FP,FN,TP)\n",
        "\n",
        "print(\"PERFORMANCE EVALUATION\")\n",
        "print(\"Sensitivity = \"+str(sens/5))\n",
        "print(\"Specificity = \"+str(spec/5))\n",
        "print(\"Accuracy = \"+str(acc/5))"
      ],
      "execution_count": null,
      "outputs": [
        {
          "output_type": "stream",
          "name": "stdout",
          "text": [
            "RUN1\n",
            "Sensitivity = 0.6764705882352942\n",
            "Specificity = 0.9574468085106383\n",
            "Accuracy = 0.7913043478260869\n",
            "RUN2\n",
            "Sensitivity = 0.9795918367346939\n",
            "Specificity = 0.8636363636363636\n",
            "Accuracy = 0.9130434782608695\n",
            "RUN3\n",
            "Sensitivity = 0.925\n",
            "Specificity = 0.96\n",
            "Accuracy = 0.9478260869565217\n",
            "RUN4\n",
            "Sensitivity = 0.6551724137931034\n",
            "Specificity = 1.0\n",
            "Accuracy = 0.9130434782608695\n",
            "RUN5\n",
            "Sensitivity = 0.8846153846153846\n",
            "Specificity = 0.9885057471264368\n",
            "Accuracy = 0.9646017699115044\n",
            "PERFORMANCE EVALUATION\n",
            "Sensitivity = 0.8241700446756951\n",
            "Specificity = 0.9539177838546878\n",
            "Accuracy = 0.9059638322431705\n"
          ]
        }
      ]
    },
    {
      "cell_type": "markdown",
      "metadata": {
        "id": "KUo3o78G8g-N"
      },
      "source": [
        "### LoR with L2 NORM"
      ]
    },
    {
      "cell_type": "code",
      "metadata": {
        "colab": {
          "base_uri": "https://localhost:8080/"
        },
        "id": "BDal2kg79lxG",
        "outputId": "3c26e432-73c7-430f-9c5f-4f7029ff7000"
      },
      "source": [
        "sens,spec,acc=0,0,0\n",
        "for i in range(5):\n",
        "\n",
        "  #data manipulation\n",
        "  run=i\n",
        "  start,end=i*114,(i+1)*114\n",
        "  data_te=data.loc[start:end,:].copy()\n",
        "  data_te=np.array(data_te)\n",
        "  data_tr=data.drop(data.index[start:end]).copy()\n",
        "  data_tr=np.array(data_tr)\n",
        "  norm  = np.amax(np.abs(data_tr),axis=0)\n",
        "  data_tr,data_te = data_tr/norm, data_te/norm #normalsing\n",
        "  x_train,y_train,x_test,y_test=data_tr[:,:f],data_tr[:,f].reshape(len(data_tr[:,f]),1),data_te[:,:f],data_te[:,f].reshape(len(data_te[:,f]),1)\n",
        "\n",
        "  #training\n",
        "  w=np.random.rand(f).reshape(f,1)\n",
        "  for t in range(368):\n",
        "    index=np.random.randint(len(y_train))\n",
        "    j1 = hyp_lor(x_train,w)[index]-y_train[index] # (hyp(xi)-yi)\n",
        "    for j in range(f):\n",
        "      j2 = np.multiply(j1.reshape(1,1),x_train[index,j])\n",
        "      w[j] = (1-(0.003*0.05))*w[j] - 0.05*j2\n",
        "\n",
        "  # testing\n",
        "  TN,FP,FN,TP=0,0,0,0\n",
        "  predicted_output = hyp_lor(x_test,w)\n",
        "  i=0\n",
        "  for inst in predicted_output:\n",
        "    if inst>0.5:\n",
        "      inst=1\n",
        "      if inst==y_test[i]:\n",
        "        TP+=1\n",
        "      else:\n",
        "        FP+=1\n",
        "    else:\n",
        "      inst=0\n",
        "      if inst==y_test[i]:\n",
        "        TN+=1\n",
        "      else:\n",
        "        FN+=1\n",
        "    i+=1\n",
        "\n",
        "  # performance evaluation\n",
        "  print(\"RUN\"+str(run+1))\n",
        "  print(\"Sensitivity = \"+str(sensitivity(TN,FP,FN,TP)))\n",
        "  print(\"Specificity = \"+str(specificity(TN,FP,FN,TP)))\n",
        "  print(\"Accuracy = \"+str(accuracy(TN,FP,FN,TP)))\n",
        "\n",
        "  sens,spec,acc=sens+sensitivity(TN,FP,FN,TP),spec+specificity(TN,FP,FN,TP),acc+accuracy(TN,FP,FN,TP)\n",
        "\n",
        "print(\"PERFORMANCE EVALUATION\")\n",
        "print(\"Sensitivity = \"+str(sens/5))\n",
        "print(\"Specificity = \"+str(spec/5))\n",
        "print(\"Accuracy = \"+str(acc/5))"
      ],
      "execution_count": null,
      "outputs": [
        {
          "output_type": "stream",
          "name": "stdout",
          "text": [
            "RUN1\n",
            "Sensitivity = 0.723404255319149\n",
            "Specificity = 1.0\n",
            "Accuracy = 0.8869565217391304\n",
            "RUN2\n",
            "Sensitivity = 0.8043478260869565\n",
            "Specificity = 0.9710144927536232\n",
            "Accuracy = 0.9043478260869565\n",
            "RUN3\n",
            "Sensitivity = 0.8421052631578947\n",
            "Specificity = 0.974025974025974\n",
            "Accuracy = 0.9304347826086956\n",
            "RUN4\n",
            "Sensitivity = 0.5869565217391305\n",
            "Specificity = 1.0\n",
            "Accuracy = 0.8347826086956521\n",
            "RUN5\n",
            "Sensitivity = 0.9473684210526315\n",
            "Specificity = 0.9466666666666667\n",
            "Accuracy = 0.9469026548672567\n",
            "PERFORMANCE EVALUATION\n",
            "Sensitivity = 0.7808364574711524\n",
            "Specificity = 0.9783414266892526\n",
            "Accuracy = 0.9006848787995383\n"
          ]
        }
      ]
    },
    {
      "cell_type": "markdown",
      "metadata": {
        "id": "aVfaNuhG8juX"
      },
      "source": [
        "### LoR with L1 NORM"
      ]
    },
    {
      "cell_type": "code",
      "metadata": {
        "colab": {
          "base_uri": "https://localhost:8080/"
        },
        "id": "K14IPDIA9_xb",
        "outputId": "96d3abcc-5d68-4376-a541-82f1b45d99d7"
      },
      "source": [
        "sens,spec,acc=0,0,0\n",
        "for i in range(5):\n",
        "\n",
        "  # data manipulation\n",
        "  run=i\n",
        "  start,end=i*114,(i+1)*114\n",
        "  data_te=data.loc[start:end,:].copy()\n",
        "  data_te=np.array(data_te)\n",
        "  data_tr=data.drop(data.index[start:end]).copy()\n",
        "  data_tr=np.array(data_tr)\n",
        "  norm  = np.amax(np.abs(data_tr),axis=0)\n",
        "  data_tr,data_te = data_tr/norm, data_te/norm #normalsing\n",
        "  x_train,y_train,x_test,y_test=data_tr[:,:f],data_tr[:,f].reshape(len(data_tr[:,f]),1),data_te[:,:f],data_te[:,f].reshape(len(data_te[:,f]),1)\n",
        "\n",
        "  #training\n",
        "  w=np.random.rand(f).reshape(f,1)\n",
        "  for t in range(300):\n",
        "    index=np.random.randint(len(y_train))\n",
        "    j1 = hyp_lor(x_train,w)[index]-y_train[index] # (hyp(xi)-yi)\n",
        "    for j in range(f):\n",
        "      j2 = np.multiply(j1.reshape(1,1),x_train[index,j])\n",
        "      w[j] = w[j] - 0.163*j2 - ((0.006*0.163)/2)*np.sign(w[j])\n",
        "\n",
        "  # testing\n",
        "  TN,FP,FN,TP=0,0,0,0\n",
        "  predicted_output = hyp_lor(x_test,w)\n",
        "  i=0\n",
        "  for inst in predicted_output:\n",
        "    if inst>0.5:\n",
        "      inst=1\n",
        "      if inst==y_test[i]:\n",
        "        TP+=1\n",
        "      else:\n",
        "        FP+=1\n",
        "    else:\n",
        "      inst=0\n",
        "      if inst==y_test[i]:\n",
        "        TN+=1\n",
        "      else:\n",
        "        FN+=1\n",
        "    i+=1\n",
        "\n",
        "  # performance evaluation\n",
        "  print(\"RUN\"+str(run+1))\n",
        "  print(\"Sensitivity = \"+str(sensitivity(TN,FP,FN,TP)))\n",
        "  print(\"Specificity = \"+str(specificity(TN,FP,FN,TP)))\n",
        "  print(\"Accuracy = \"+str(accuracy(TN,FP,FN,TP)))\n",
        "\n",
        "  sens,spec,acc=sens+sensitivity(TN,FP,FN,TP),spec+specificity(TN,FP,FN,TP),acc+accuracy(TN,FP,FN,TP)\n",
        "\n",
        "print(\"PERFORMANCE EVALUATION\")\n",
        "print(\"Sensitivity = \"+str(sens/5))\n",
        "print(\"Specificity = \"+str(spec/5))\n",
        "print(\"Accuracy = \"+str(acc/5))"
      ],
      "execution_count": null,
      "outputs": [
        {
          "output_type": "stream",
          "name": "stdout",
          "text": [
            "RUN1\n",
            "Sensitivity = 0.9148936170212766\n",
            "Specificity = 0.9705882352941176\n",
            "Accuracy = 0.9478260869565217\n",
            "RUN2\n",
            "Sensitivity = 1.0\n",
            "Specificity = 0.927536231884058\n",
            "Accuracy = 0.9565217391304348\n",
            "RUN3\n",
            "Sensitivity = 0.8947368421052632\n",
            "Specificity = 0.961038961038961\n",
            "Accuracy = 0.9391304347826087\n",
            "RUN4\n",
            "Sensitivity = 0.7391304347826086\n",
            "Specificity = 0.927536231884058\n",
            "Accuracy = 0.8521739130434782\n",
            "RUN5\n",
            "Sensitivity = 0.9473684210526315\n",
            "Specificity = 0.9733333333333334\n",
            "Accuracy = 0.9646017699115044\n",
            "PERFORMANCE EVALUATION\n",
            "Sensitivity = 0.899225862992356\n",
            "Specificity = 0.9520065986869056\n",
            "Accuracy = 0.9320507887649097\n"
          ]
        }
      ]
    },
    {
      "cell_type": "markdown",
      "metadata": {
        "id": "HlXP35BG-d4U"
      },
      "source": [
        "## MBGD"
      ]
    },
    {
      "cell_type": "code",
      "metadata": {
        "id": "WvPZDjB2VGlF"
      },
      "source": [
        "nb=32"
      ],
      "execution_count": null,
      "outputs": []
    },
    {
      "cell_type": "markdown",
      "metadata": {
        "id": "7mlhQVAF-gQ0"
      },
      "source": [
        "### LoR"
      ]
    },
    {
      "cell_type": "code",
      "metadata": {
        "id": "ToJEHkZC-21p",
        "colab": {
          "base_uri": "https://localhost:8080/"
        },
        "outputId": "d3fe9c72-990c-4de1-f5b6-18fe897c0f83"
      },
      "source": [
        "sens,spec,acc=0,0,0\n",
        "for i in range(5):\n",
        "\n",
        "  # data manipulation\n",
        "  run=i\n",
        "  start,end=i*114,(i+1)*114\n",
        "  data_te=data.loc[start:end,:]\n",
        "  data_te=np.array(data_te)\n",
        "  data_tr=data.drop(data.index[start:end])\n",
        "  data_tr=np.array(data_tr)\n",
        "  norm  = np.amax(np.abs(data_tr),axis=0)\n",
        "  data_tr,data_te = data_tr/norm, data_te/norm #normalsing\n",
        "  x_train,y_train,x_test,y_test=data_tr[:,:f],data_tr[:,f].reshape(len(data_tr[:,f]),1),data_te[:,:f],data_te[:,f].reshape(len(data_te[:,f]),1)\n",
        "\n",
        "  #training\n",
        "  w=np.random.rand(f).reshape(f,1) # weight vector initialised\n",
        "  for t in range(int(502)):\n",
        "    np.random.shuffle(data_tr)\n",
        "    hypo1 = np.dot(data_tr[:nb,:f].reshape(nb,f),w) # hypothesis array part1\n",
        "    hypo = 1/(1+np.exp(-hypo1))\n",
        "    j1 = np.subtract(hypo,data_tr[:nb,f].reshape(nb,1)) # (hyp(xi)-yi)\n",
        "    for j in range(f):\n",
        "      jsum = np.sum(np.multiply(j1,data_tr[:nb,j].reshape(nb,1)))\n",
        "      w[j] = w[j] - (1/nb)*1*jsum\n",
        "\n",
        "  # testing\n",
        "  TN,FP,FN,TP=0,0,0,0\n",
        "  predicted_output = hyp_lor(x_test,w)\n",
        "  i=0\n",
        "  for inst in predicted_output:\n",
        "    if inst>0.5:\n",
        "      inst=1\n",
        "      if inst==y_test[i]:\n",
        "        TP+=1\n",
        "      else:\n",
        "        FP+=1\n",
        "    else:\n",
        "      inst=0\n",
        "      if inst==y_test[i]:\n",
        "        TN+=1\n",
        "      else:\n",
        "        FN+=1\n",
        "    i+=1\n",
        "\n",
        "  # performance evaluation\n",
        "  print(\"RUN\"+str(run+1))\n",
        "  print(\"Sensitivity = \"+str(sensitivity(TN,FP,FN,TP)))\n",
        "  print(\"Specificity = \"+str(specificity(TN,FP,FN,TP)))\n",
        "  print(\"Accuracy = \"+str(accuracy(TN,FP,FN,TP)))\n",
        "\n",
        "  sens,spec,acc=sens+sensitivity(TN,FP,FN,TP),spec+specificity(TN,FP,FN,TP),acc+accuracy(TN,FP,FN,TP)\n",
        "\n",
        "print(\"PERFORMANCE EVALUATION\")\n",
        "print(\"Sensitivity = \"+str(sens/5))\n",
        "print(\"Specificity = \"+str(spec/5))\n",
        "print(\"Accuracy = \"+str(acc/5))"
      ],
      "execution_count": null,
      "outputs": [
        {
          "output_type": "stream",
          "name": "stdout",
          "text": [
            "RUN1\n",
            "Sensitivity = 0.851063829787234\n",
            "Specificity = 0.9852941176470589\n",
            "Accuracy = 0.9304347826086956\n",
            "RUN2\n",
            "Sensitivity = 0.9565217391304348\n",
            "Specificity = 0.9855072463768116\n",
            "Accuracy = 0.9739130434782609\n",
            "RUN3\n",
            "Sensitivity = 0.9210526315789473\n",
            "Specificity = 0.987012987012987\n",
            "Accuracy = 0.9652173913043478\n",
            "RUN4\n",
            "Sensitivity = 0.782608695652174\n",
            "Specificity = 0.9855072463768116\n",
            "Accuracy = 0.9043478260869565\n",
            "RUN5\n",
            "Sensitivity = 0.9473684210526315\n",
            "Specificity = 1.0\n",
            "Accuracy = 0.9823008849557522\n",
            "PERFORMANCE EVALUATION\n",
            "Sensitivity = 0.8917230634402843\n",
            "Specificity = 0.9886643194827338\n",
            "Accuracy = 0.9512427856868026\n"
          ]
        }
      ]
    },
    {
      "cell_type": "markdown",
      "metadata": {
        "id": "unaLev03-iUI"
      },
      "source": [
        "### LoR with L2 NORM"
      ]
    },
    {
      "cell_type": "code",
      "metadata": {
        "id": "nETrOFPyVaLz",
        "colab": {
          "base_uri": "https://localhost:8080/"
        },
        "outputId": "a0366c1d-90c8-4c85-8488-8a9369c0282f"
      },
      "source": [
        "sens,spec,acc=0,0,0\n",
        "for i in range(5):\n",
        "\n",
        "  # data manipulation\n",
        "  run=i\n",
        "  start,end=i*114,(i+1)*114\n",
        "  data_te=data.loc[start:end,:].copy()\n",
        "  data_te=np.array(data_te)\n",
        "  data_tr=data.drop(data.index[start:end]).copy()\n",
        "  data_tr=np.array(data_tr)\n",
        "  norm  = np.amax(np.abs(data_tr),axis=0)\n",
        "  data_tr,data_te = data_tr/norm, data_te/norm #normalsing\n",
        "  x_train,y_train,x_test,y_test=data_tr[:,:f],data_tr[:,f].reshape(len(data_tr[:,f]),1),data_te[:,:f],data_te[:,f].reshape(len(data_te[:,f]),1)\n",
        "\n",
        "  #training\n",
        "  w=np.random.rand(f).reshape(f,1) # weight vector initialised\n",
        "  for t in range(560):\n",
        "    np.random.shuffle(data_tr)\n",
        "    hypo1 = np.dot(data_tr[:nb,:f].reshape(nb,f),w) # hypothesis array part1\n",
        "    hypo = 1/(1+np.exp(-hypo1))\n",
        "    j1 = np.subtract(hypo,data_tr[:nb,f].reshape(nb,1)) # (hyp(xi)-yi)\n",
        "    for j in range(f):\n",
        "      jsum = np.sum(np.multiply(j1,data_tr[:nb,j].reshape(nb,1)))\n",
        "      w[j] = (1-(0.001*0.8))*w[j] - (1/nb)*0.8*jsum\n",
        "\n",
        "  # testing\n",
        "  predicted_output = hyp_lor(x_test,w)\n",
        "  i=0\n",
        "  for inst in predicted_output:\n",
        "    if inst>0.5:\n",
        "      inst=1\n",
        "      if inst==y_test[i]:\n",
        "        TP+=1\n",
        "      else:\n",
        "        FP+=1\n",
        "    else:\n",
        "      inst=0\n",
        "      if inst==y_test[i]:\n",
        "        TN+=1\n",
        "      else:\n",
        "        FN+=1\n",
        "    i+=1\n",
        "\n",
        "  # performance evaluation\n",
        "  print(\"RUN\"+str(run+1))\n",
        "  print(\"Sensitivity = \"+str(sensitivity(TN,FP,FN,TP)))\n",
        "  print(\"Specificity = \"+str(specificity(TN,FP,FN,TP)))\n",
        "  print(\"Accuracy = \"+str(accuracy(TN,FP,FN,TP)))\n",
        "\n",
        "  sens,spec,acc=sens+sensitivity(TN,FP,FN,TP),spec+specificity(TN,FP,FN,TP),acc+accuracy(TN,FP,FN,TP)\n",
        "\n",
        "print(\"PERFORMANCE EVALUATION\")\n",
        "print(\"Sensitivity = \"+str(sens/5))\n",
        "print(\"Specificity = \"+str(spec/5))\n",
        "print(\"Accuracy = \"+str(acc/5))"
      ],
      "execution_count": null,
      "outputs": [
        {
          "output_type": "stream",
          "name": "stdout",
          "text": [
            "RUN1\n",
            "Sensitivity = 0.773972602739726\n",
            "Specificity = 0.9769926047658176\n",
            "Accuracy = 0.9008731381612738\n",
            "RUN2\n",
            "Sensitivity = 0.7873711340206185\n",
            "Specificity = 0.9751166407465007\n",
            "Accuracy = 0.9044616876818623\n",
            "RUN3\n",
            "Sensitivity = 0.7936117936117936\n",
            "Specificity = 0.9743213499633162\n",
            "Accuracy = 0.9067524115755627\n",
            "RUN4\n",
            "Sensitivity = 0.7941860465116279\n",
            "Specificity = 0.9741620111731844\n",
            "Accuracy = 0.9066317626527051\n",
            "RUN5\n",
            "Sensitivity = 0.8006681514476615\n",
            "Specificity = 0.9747843397478434\n",
            "Accuracy = 0.9097713097713098\n",
            "PERFORMANCE EVALUATION\n",
            "Sensitivity = 0.7899619456662854\n",
            "Specificity = 0.9750753892793325\n",
            "Accuracy = 0.9056980619685427\n"
          ]
        }
      ]
    },
    {
      "cell_type": "markdown",
      "metadata": {
        "id": "eaPmnZzW-k2U"
      },
      "source": [
        "### LoR with L1 NORM"
      ]
    },
    {
      "cell_type": "code",
      "metadata": {
        "colab": {
          "base_uri": "https://localhost:8080/"
        },
        "id": "1Kr_MwmHVDdn",
        "outputId": "1d55a1ed-793f-4d93-d66a-410e86c0e524"
      },
      "source": [
        "sens,spec,acc=0,0,0\n",
        "for i in range(5):\n",
        "\n",
        "  # data manipulation\n",
        "  run=i\n",
        "  start,end=i*114,(i+1)*114\n",
        "  data_te=data.loc[start:end,:].copy()\n",
        "  data_te=np.array(data_te)\n",
        "  data_tr=data.drop(data.index[start:end]).copy()\n",
        "  data_tr=np.array(data_tr)\n",
        "  norm  = np.amax(np.abs(data_tr),axis=0)\n",
        "  data_tr,data_te = data_tr/norm, data_te/norm #normalsing\n",
        "  x_train,y_train,x_test,y_test=data_tr[:,:f],data_tr[:,f].reshape(len(data_tr[:,f]),1),data_te[:,:f],data_te[:,f].reshape(len(data_te[:,f]),1)\n",
        "\n",
        "  #training\n",
        "  w=np.random.rand(f).reshape(f,1) # weight vector initialised\n",
        "  for t in range(173):\n",
        "    np.random.shuffle(data_tr)\n",
        "    hypo1 = np.dot(data_tr[:nb,:f].reshape(nb,f),w) # hypothesis array part1\n",
        "    hypo = 1/(1+np.exp(-hypo1))\n",
        "    j1 = np.subtract(hypo,data_tr[:nb,f].reshape(nb,1)) # (hyp(xi)-yi)\n",
        "    for j in range(f):\n",
        "      jsum = np.sum(np.multiply(j1,data_tr[:nb,j].reshape(nb,1)))\n",
        "      w[j] = w[j] - (1/nb)*0.27*jsum - ((0.27*0.0136)/2)*np.sign(w[j])\n",
        "\n",
        "  # testing\n",
        "  predicted_output = hyp_lor(x_test,w)\n",
        "  i=0\n",
        "  for inst in predicted_output:\n",
        "    if inst>0.5:\n",
        "      inst=1\n",
        "      if inst==y_test[i]:\n",
        "        TP+=1\n",
        "      else:\n",
        "        FP+=1\n",
        "    else:\n",
        "      inst=0\n",
        "      if inst==y_test[i]:\n",
        "        TN+=1\n",
        "      else:\n",
        "        FN+=1\n",
        "    i+=1\n",
        "\n",
        "  # performance evaluation\n",
        "  print(\"RUN\"+str(run+1))\n",
        "  print(\"Sensitivity = \"+str(sensitivity(TN,FP,FN,TP)))\n",
        "  print(\"Specificity = \"+str(specificity(TN,FP,FN,TP)))\n",
        "  print(\"Accuracy = \"+str(accuracy(TN,FP,FN,TP)))\n",
        "\n",
        "  sens,spec,acc=sens+sensitivity(TN,FP,FN,TP),spec+specificity(TN,FP,FN,TP),acc+accuracy(TN,FP,FN,TP)\n",
        "\n",
        "print(\"PERFORMANCE EVALUATION\")\n",
        "print(\"Sensitivity = \"+str(sens/5))\n",
        "print(\"Specificity = \"+str(spec/5))\n",
        "print(\"Accuracy = \"+str(acc/5))"
      ],
      "execution_count": null,
      "outputs": [
        {
          "output_type": "stream",
          "name": "stdout",
          "text": [
            "RUN1\n",
            "Sensitivity = 0.8235294117647058\n",
            "Specificity = 1.0\n",
            "Accuracy = 0.9342105263157895\n",
            "RUN2\n",
            "Sensitivity = 0.8320610687022901\n",
            "Specificity = 0.9905660377358491\n",
            "Accuracy = 0.9300291545189504\n",
            "RUN3\n",
            "Sensitivity = 0.834319526627219\n",
            "Specificity = 0.9896193771626297\n",
            "Accuracy = 0.9323144104803494\n",
            "RUN4\n",
            "Sensitivity = 0.7906976744186046\n",
            "Specificity = 0.9888268156424581\n",
            "Accuracy = 0.9144851657940664\n",
            "RUN5\n",
            "Sensitivity = 0.8142292490118577\n",
            "Specificity = 0.9907621247113164\n",
            "Accuracy = 0.9256559766763849\n",
            "PERFORMANCE EVALUATION\n",
            "Sensitivity = 0.8189673861049356\n",
            "Specificity = 0.9919548710504505\n",
            "Accuracy = 0.9273390467571081\n"
          ]
        }
      ]
    }
  ]
}