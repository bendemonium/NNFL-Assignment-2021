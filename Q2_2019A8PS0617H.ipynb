{
  "nbformat": 4,
  "nbformat_minor": 0,
  "metadata": {
    "colab": {
      "provenance": []
    },
    "kernelspec": {
      "name": "python3",
      "display_name": "Python 3"
    },
    "language_info": {
      "name": "python"
    }
  },
  "cells": [
    {
      "cell_type": "markdown",
      "metadata": {
        "id": "29UZR9hy6--F"
      },
      "source": [
        "# **Q2**\n"
      ]
    },
    {
      "cell_type": "code",
      "metadata": {
        "id": "JuVaeG78CU1a",
        "colab": {
          "resources": {
            "http://localhost:8080/nbextensions/google.colab/files.js": {
              "data": "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",
              "ok": true,
              "headers": [
                [
                  "content-type",
                  "application/javascript"
                ]
              ],
              "status": 200,
              "status_text": ""
            }
          },
          "base_uri": "https://localhost:8080/",
          "height": 73
        },
        "outputId": "6c1fd5d3-848b-4846-8c02-6043a3416a15"
      },
      "source": [
        "import numpy as np\n",
        "import pandas as pd\n",
        "import matplotlib.pyplot as plt\n",
        "import scipy as sp\n",
        "from google.colab import files\n",
        "uploaded=files.upload()"
      ],
      "execution_count": null,
      "outputs": [
        {
          "output_type": "display_data",
          "data": {
            "text/html": [
              "\n",
              "     <input type=\"file\" id=\"files-aef21d6e-7853-4f3f-98fc-d8e1a6e97a64\" name=\"files[]\" multiple disabled\n",
              "        style=\"border:none\" />\n",
              "     <output id=\"result-aef21d6e-7853-4f3f-98fc-d8e1a6e97a64\">\n",
              "      Upload widget is only available when the cell has been executed in the\n",
              "      current browser session. Please rerun this cell to enable.\n",
              "      </output>\n",
              "      <script src=\"/nbextensions/google.colab/files.js\"></script> "
            ],
            "text/plain": [
              "<IPython.core.display.HTML object>"
            ]
          },
          "metadata": {}
        },
        {
          "output_type": "stream",
          "name": "stdout",
          "text": [
            "Saving data_q2_q3.xlsx to data_q2_q3.xlsx\n"
          ]
        }
      ]
    },
    {
      "cell_type": "code",
      "metadata": {
        "id": "sYh4CytVqlth"
      },
      "source": [
        "def norm1(x):\n",
        "  return (x-np.mean(x,axis=0))/np.std(x,axis=0)\n",
        "def norm2(x):\n",
        "  return x/np.max(x,axis=0)\n",
        "def hyp(x,w):\n",
        "  return np.dot(x,w)\n",
        "def mse(y,pred,l):\n",
        "  return (1/l)*np.sum(np.square(y-pred))\n",
        "def mae(y,pred,l):\n",
        "  return (1/l)*np.sum(np.absolute(y-pred))\n",
        "def cc(y,pred):\n",
        "  return (np.sum(np.abs(np.multiply(y,pred))))/(np.sqrt(np.sum(np.square(y))*np.sum(np.square(pred))))"
      ],
      "execution_count": null,
      "outputs": []
    },
    {
      "cell_type": "code",
      "metadata": {
        "id": "xCmjUbvxCKNz"
      },
      "source": [
        "data=pd.read_excel(\"/content/data_q2_q3.xlsx\")\n",
        "data.insert(0,\"x0\",1)"
      ],
      "execution_count": null,
      "outputs": []
    },
    {
      "cell_type": "code",
      "metadata": {
        "id": "sXDBdPATrP5f"
      },
      "source": [
        "f,tr,va,te = 5,80,12,23\n",
        "data_tr=data.loc[:79,:].copy()\n",
        "data_tr=np.array(data_tr)\n",
        "norm = np.amax(np.abs(data_tr),axis=0)\n",
        "data_tr=data_tr/norm\n",
        "data_va=data.loc[80:91,:].copy()\n",
        "data_va=np.array(data_va)\n",
        "data_te=data.loc[92:,:].copy()\n",
        "data_te=np.array(data_te)\n",
        "data_va,data_te = data_va/norm,data_te/norm\n",
        "x_train,y_train,x_val,y_val,x_test,y_test=data_tr[:,:f],data_tr[:,f].reshape(tr,1),data_va[:,:f],data_va[:,f].reshape(va,1),data_te[:,:f],data_te[:,f].reshape(te,1)"
      ],
      "execution_count": null,
      "outputs": []
    },
    {
      "cell_type": "markdown",
      "metadata": {
        "id": "K5miJiEYkrEm"
      },
      "source": [
        "## BGD"
      ]
    },
    {
      "cell_type": "code",
      "metadata": {
        "id": "A3b8waf1f4-l"
      },
      "source": [
        "# for grid search\n",
        "T_grid,A_grid,L_grid=np.linspace(300,950,10),np.linspace(0.1,1,10),np.linspace(0.01,0.1,10)\n",
        "params=[0,0,0] # T_ideal,Alpha,Lambda"
      ],
      "execution_count": null,
      "outputs": []
    },
    {
      "cell_type": "code",
      "metadata": {
        "id": "8j1o0Z80kncx"
      },
      "source": [
        "curr_err=100 # current error\n",
        "\n",
        "for T in T_grid:\n",
        "  for alpha in A_grid:\n",
        "    for lamb in L_grid:\n",
        "      w=np.random.rand(f).reshape(f,1) # weight vector initialised\n",
        "      for t in range(int(T)):\n",
        "        j1 = hyp(x_train,w)-y_train # (hyp(xi)-yi)\n",
        "        for j in range(f):\n",
        "          jsum = np.sum(np.multiply(j1,x_train[:,j].reshape(tr,1)))\n",
        "          w[j] = (1-(lamb*alpha))*w[j] - (1/tr)*alpha*jsum\n",
        "      mse_val = mse(hyp(x_val,w),y_val,va)\n",
        "      if mse_val < curr_err:\n",
        "        curr_err = mse_val\n",
        "        params = [int(T),alpha,lamb]"
      ],
      "execution_count": null,
      "outputs": []
    },
    {
      "cell_type": "code",
      "metadata": {
        "colab": {
          "base_uri": "https://localhost:8080/"
        },
        "id": "Zd42jjqyuH2w",
        "outputId": "6b0fd55b-e4f7-4fa0-cca5-2f8e2ce4e551"
      },
      "source": [
        "T_ideal,Alpha,Lambda=params[0],params[1],params[2]\n",
        "params"
      ],
      "execution_count": null,
      "outputs": [
        {
          "output_type": "execute_result",
          "data": {
            "text/plain": [
              "[444, 0.1, 0.01]"
            ]
          },
          "metadata": {},
          "execution_count": 12
        }
      ]
    },
    {
      "cell_type": "code",
      "metadata": {
        "id": "lKWpinskh979",
        "colab": {
          "base_uri": "https://localhost:8080/"
        },
        "outputId": "7611cc57-c806-4b20-cf64-a8e52960103e"
      },
      "source": [
        "w=np.random.rand(f).reshape(f,1) # weight vector initialised\n",
        "\n",
        "for t in range(T_ideal):\n",
        "    j1 = hyp(x_train,w)-y_train # (hyp(xi)-yi)\n",
        "    for j in range(f):\n",
        "      j2 = np.multiply(j1,x_train[:,j].reshape(tr,1))\n",
        "      jsum = np.sum(j2)\n",
        "      w[j] = (1-(Lambda*Alpha))*w[j] - (1/tr)*Alpha*jsum\n",
        "\n",
        "print(\"yp = \"+str(w[0])+\" + \"+str(w[1])+\"(x1) + \"+str(w[2])+\"(x2) + \"+str(w[3])+\"(x3) + \"+str(w[4])+\"(x4)\")"
      ],
      "execution_count": null,
      "outputs": [
        {
          "output_type": "stream",
          "name": "stdout",
          "text": [
            "yp = [0.03283477] + [0.58517048](x1) + [0.01172518](x2) + [0.04059653](x3) + [0.43055146](x4)\n"
          ]
        }
      ]
    },
    {
      "cell_type": "code",
      "metadata": {
        "id": "BkrZcXBeO_U3"
      },
      "source": [
        "# testing\n",
        "predicted_output = hyp(x_test,w)\n",
        "predicted_output*norm[-1]"
      ],
      "execution_count": null,
      "outputs": []
    },
    {
      "cell_type": "code",
      "metadata": {
        "colab": {
          "base_uri": "https://localhost:8080/"
        },
        "id": "fr-0i2FkPm93",
        "outputId": "db9d70a9-eabc-4104-e964-340193d8fa0e"
      },
      "source": [
        "# Error calculation\n",
        "print(\"Mean Square Error = \"+str(mse(y_test,predicted_output,te)))\n",
        "print(\"Mean Absolute Error = \"+str(mae(y_test,predicted_output,te)))\n",
        "print(\"Correlation Coefficient = \"+str(cc(y_test,predicted_output)))"
      ],
      "execution_count": null,
      "outputs": [
        {
          "output_type": "stream",
          "name": "stdout",
          "text": [
            "Mean Square Error = 0.04420057204439927\n",
            "Mean Absolute Error = 0.18435975626443937\n",
            "Correlation Coefficient = 0.9860478195904131\n"
          ]
        }
      ]
    },
    {
      "cell_type": "markdown",
      "metadata": {
        "id": "theU3z8aiPvj"
      },
      "source": [
        "## SGD\n"
      ]
    },
    {
      "cell_type": "code",
      "metadata": {
        "id": "hEG1j_hGC9J6"
      },
      "source": [
        "# for grid search\n",
        "T_grid,A_grid,L_grid=np.linspace(200,380,10),np.linspace(0.1,1,10),np.linspace(0.01,0.1,10)\n",
        "params=[0,0,0] # T_ideal,Alpha,Lambda"
      ],
      "execution_count": null,
      "outputs": []
    },
    {
      "cell_type": "code",
      "metadata": {
        "id": "h9lbD9KWDOoe"
      },
      "source": [
        "curr_err=100 # current error\n",
        "\n",
        "for T in T_grid:\n",
        "  for alpha in A_grid:\n",
        "    for lamb in L_grid:\n",
        "      w=np.random.rand(f).reshape(f,1) # weight vector initialised\n",
        "      for t in range(int(T)):\n",
        "        index=np.random.randint(tr)\n",
        "        j1 = (hyp(x_train,w)[index]-y_train[index]).reshape(1,1) # (hyp(xi)-yi)\n",
        "        for j in range(f):\n",
        "          j2 = np.multiply(j1.reshape(1,1),x_train[index,j])\n",
        "          w[j] = (1-(lamb*alpha))*w[j] - alpha*j2\n",
        "      mse_val = mse(hyp(x_val,w),y_val,va)\n",
        "      if mse_val < curr_err:\n",
        "        curr_err = mse_val\n",
        "        params = [int(T),alpha,lamb]"
      ],
      "execution_count": null,
      "outputs": []
    },
    {
      "cell_type": "code",
      "metadata": {
        "colab": {
          "base_uri": "https://localhost:8080/"
        },
        "id": "jnNvzJU2FGos",
        "outputId": "54fb79c7-51eb-459b-e71d-1e8b4678d3ef"
      },
      "source": [
        "T_ideal,Alpha,Lambda=params[0],params[1],params[2]\n",
        "params"
      ],
      "execution_count": null,
      "outputs": [
        {
          "output_type": "execute_result",
          "data": {
            "text/plain": [
              "[220, 0.2, 0.01]"
            ]
          },
          "metadata": {},
          "execution_count": 18
        }
      ]
    },
    {
      "cell_type": "code",
      "metadata": {
        "id": "QU6H9Iw6FVMH",
        "colab": {
          "base_uri": "https://localhost:8080/"
        },
        "outputId": "9706018d-4991-49af-dcee-4cd90353e8f2"
      },
      "source": [
        "w=np.random.rand(f).reshape(f,1)\n",
        "\n",
        "for t in range(T_ideal):\n",
        "  index=np.random.randint(tr)\n",
        "  j1 = hyp(x_train,w)[index]-y_train[index] # (hyp(xi)-yi)\n",
        "  for j in range(f):\n",
        "    j2 = np.multiply(j1.reshape(1,1),x_train[index,j])\n",
        "    w[j] = (1-(Lambda*Alpha))*w[j] - Alpha*j2\n",
        "\n",
        "print(\"yp = \"+str(w[0])+\" + \"+str(w[1])+\"(x1) + \"+str(w[2])+\"(x2) + \"+str(w[3])+\"(x3) + \"+str(w[4])+\"(x4)\")"
      ],
      "execution_count": null,
      "outputs": [
        {
          "output_type": "stream",
          "name": "stdout",
          "text": [
            "yp = [-0.00327966] + [0.56591188](x1) + [0.08099463](x2) + [0.01553209](x3) + [0.39441835](x4)\n"
          ]
        }
      ]
    },
    {
      "cell_type": "code",
      "metadata": {
        "id": "CnuOPbegcCoJ"
      },
      "source": [
        "# testing\n",
        "predicted_output = hyp(x_test,w)\n",
        "predicted_output"
      ],
      "execution_count": null,
      "outputs": []
    },
    {
      "cell_type": "code",
      "metadata": {
        "colab": {
          "base_uri": "https://localhost:8080/"
        },
        "id": "ORflIDSOcLP8",
        "outputId": "d9837980-7e4d-4277-a43e-e2a1a990239d"
      },
      "source": [
        "# Error calculation\n",
        "print(\"Mean Square Error = \"+str(mse(y_test,predicted_output,te)))\n",
        "print(\"Mean Absolute Error = \"+str(mae(y_test,predicted_output,te)))\n",
        "print(\"Correlation Coefficient = \"+str(cc(y_test,predicted_output)))"
      ],
      "execution_count": null,
      "outputs": [
        {
          "output_type": "stream",
          "name": "stdout",
          "text": [
            "Mean Square Error = 0.06357775674547785\n",
            "Mean Absolute Error = 0.21727008279031879\n",
            "Correlation Coefficient = 0.9823239014569547\n"
          ]
        }
      ]
    },
    {
      "cell_type": "markdown",
      "metadata": {
        "id": "Ho3Z5PTdmqWW"
      },
      "source": [
        "## MGBD"
      ]
    },
    {
      "cell_type": "code",
      "metadata": {
        "id": "_uCI7RFkmkHm"
      },
      "source": [
        "# for grid search\n",
        "T_grid,A_grid,L_grid=np.linspace(300,560,10),np.linspace(0.1,1,10),np.linspace(0.01,0.1,10)\n",
        "params=[0,0,0] # T_ideal,Alpha,Lambda\n",
        "nb=20"
      ],
      "execution_count": null,
      "outputs": []
    },
    {
      "cell_type": "code",
      "metadata": {
        "id": "OMBBjWXgcWoB"
      },
      "source": [
        "curr_err=100 # current error\n",
        "\n",
        "for T in T_grid:\n",
        "  for alpha in A_grid:\n",
        "    for lamb in L_grid:\n",
        "      w=np.random.rand(f).reshape(f,1) # weight vector initialised\n",
        "      for t in range(int(T)):\n",
        "        np.random.shuffle(data_tr)\n",
        "        hypo = np.dot(data_tr[:nb,:f].reshape(nb,f),w) # hypothesis array\n",
        "        j1 = np.subtract(hypo,data_tr[:nb,f].reshape(nb,1)) # (hyp(xi)-yi)\n",
        "        for j in range(f):\n",
        "          jsum = np.sum(np.multiply(j1,data_tr[:nb,j].reshape(nb,1)))\n",
        "          w[j] = (1-(lamb*alpha))*w[j] - (1/tr)*alpha*jsum\n",
        "      mse_val = mse(hyp(x_val,w),y_val,va)\n",
        "      if mse_val < curr_err:\n",
        "        curr_err = mse_val\n",
        "        params = [int(T),alpha,lamb]"
      ],
      "execution_count": null,
      "outputs": []
    },
    {
      "cell_type": "code",
      "metadata": {
        "colab": {
          "base_uri": "https://localhost:8080/"
        },
        "id": "iP6POFuIt9b5",
        "outputId": "e94e67b3-eba1-41c4-924a-3efd7609be2d"
      },
      "source": [
        "T_ideal,Alpha,Lambda=params[0],params[1],params[2]\n",
        "params"
      ],
      "execution_count": null,
      "outputs": [
        {
          "output_type": "execute_result",
          "data": {
            "text/plain": [
              "[300, 0.1, 0.01]"
            ]
          },
          "metadata": {},
          "execution_count": 24
        }
      ]
    },
    {
      "cell_type": "code",
      "metadata": {
        "colab": {
          "base_uri": "https://localhost:8080/"
        },
        "id": "FAI1HTFfKQzd",
        "outputId": "3b88c754-9ed2-4a33-d0e2-e5017db85a80"
      },
      "source": [
        "w=np.random.rand(f).reshape(f,1) # weight vector initialised\n",
        "\n",
        "for t in range(int(T_ideal)):\n",
        "  np.random.shuffle(data_tr)\n",
        "  hypo = np.dot(data_tr[:nb,:f].reshape(nb,f),w) # hypothesis array\n",
        "  j1 = np.subtract(hypo,data_tr[:nb,f].reshape(nb,1)) # (hyp(xi)-yi)\n",
        "  for j in range(f):\n",
        "    jsum = np.sum(np.multiply(j1,data_tr[:nb,j].reshape(nb,1)))\n",
        "    w[j] = (1-(Lambda*Alpha))*w[j] - (1/tr)*Alpha*jsum\n",
        "\n",
        "print(\"yp = \"+str(w[0])+\" + \"+str(w[1])+\"(x1) + \"+str(w[2])+\"(x2) + \"+str(w[3])+\"(x3) + \"+str(w[4])+\"(x4)\")"
      ],
      "execution_count": null,
      "outputs": [
        {
          "output_type": "stream",
          "name": "stdout",
          "text": [
            "yp = [0.27402186] + [0.27497585](x1) + [0.10979549](x2) + [-0.0148248](x3) + [0.35390269](x4)\n"
          ]
        }
      ]
    },
    {
      "cell_type": "code",
      "metadata": {
        "id": "SqSVwhyxK58g"
      },
      "source": [
        "# testing\n",
        "predicted_output = hyp(x_test,w)\n",
        "predicted_output"
      ],
      "execution_count": null,
      "outputs": []
    },
    {
      "cell_type": "code",
      "metadata": {
        "colab": {
          "base_uri": "https://localhost:8080/"
        },
        "id": "sF-FjubHK9qI",
        "outputId": "b63b4184-e53d-4c6b-d110-7ccd1b77d6ab"
      },
      "source": [
        "# Error calculation\n",
        "print(\"Mean Square Error = \"+str(mse(y_test,predicted_output,te)))\n",
        "print(\"Mean Absolute Error = \"+str(mae(y_test,predicted_output,te)))\n",
        "print(\"Correlation Coefficient = \"+str(cc(y_test,predicted_output)))"
      ],
      "execution_count": null,
      "outputs": [
        {
          "output_type": "stream",
          "name": "stdout",
          "text": [
            "Mean Square Error = 0.037234168016580624\n",
            "Mean Absolute Error = 0.1649562480592072\n",
            "Correlation Coefficient = 0.9928109800356947\n"
          ]
        }
      ]
    }
  ]
}